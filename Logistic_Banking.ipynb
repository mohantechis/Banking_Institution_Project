{
  "nbformat": 4,
  "nbformat_minor": 0,
  "metadata": {
    "colab": {
      "name": "Logistic_Banking.ipynb",
      "provenance": [],
      "collapsed_sections": []
    },
    "kernelspec": {
      "name": "python3",
      "display_name": "Python 3"
    },
    "language_info": {
      "name": "python"
    }
  },
  "cells": [
    {
      "cell_type": "markdown",
      "metadata": {
        "id": "R0aVp0rcOQQ6"
      },
      "source": [
        "Importing the Modules"
      ]
    },
    {
      "cell_type": "code",
      "metadata": {
        "id": "kkXIpNxqNz9B"
      },
      "source": [
        "import pandas as pd\n",
        "import numpy as np\n",
        "import matplotlib.pyplot as plt\n",
        "import seaborn as sns\n",
        "import warnings\n",
        "warnings.filterwarnings(\"ignore\")"
      ],
      "execution_count": 299,
      "outputs": []
    },
    {
      "cell_type": "markdown",
      "metadata": {
        "id": "F_zMIvdwPPA7"
      },
      "source": [
        "Loading The Dataset"
      ]
    },
    {
      "cell_type": "code",
      "metadata": {
        "id": "s6pyjpiQOTeU"
      },
      "source": [
        "bank_data=pd.read_csv(\"/content/drive/MyDrive/Dataset/portu_banking_final.csv\")"
      ],
      "execution_count": 300,
      "outputs": []
    },
    {
      "cell_type": "markdown",
      "metadata": {
        "id": "D7sHiPI9PSzN"
      },
      "source": [
        "Checking The Head"
      ]
    },
    {
      "cell_type": "code",
      "metadata": {
        "colab": {
          "base_uri": "https://localhost:8080/",
          "height": 225
        },
        "id": "MoGGVGy2PSX4",
        "outputId": "69438594-19e8-4517-f31c-a2bb11aed2c3"
      },
      "source": [
        "bank_data.head()"
      ],
      "execution_count": 301,
      "outputs": [
        {
          "output_type": "execute_result",
          "data": {
            "text/html": [
              "<div>\n",
              "<style scoped>\n",
              "    .dataframe tbody tr th:only-of-type {\n",
              "        vertical-align: middle;\n",
              "    }\n",
              "\n",
              "    .dataframe tbody tr th {\n",
              "        vertical-align: top;\n",
              "    }\n",
              "\n",
              "    .dataframe thead th {\n",
              "        text-align: right;\n",
              "    }\n",
              "</style>\n",
              "<table border=\"1\" class=\"dataframe\">\n",
              "  <thead>\n",
              "    <tr style=\"text-align: right;\">\n",
              "      <th></th>\n",
              "      <th>age</th>\n",
              "      <th>job</th>\n",
              "      <th>marital</th>\n",
              "      <th>education</th>\n",
              "      <th>default</th>\n",
              "      <th>housing</th>\n",
              "      <th>loan</th>\n",
              "      <th>contact</th>\n",
              "      <th>month</th>\n",
              "      <th>day_of_week</th>\n",
              "      <th>duration</th>\n",
              "      <th>campaign</th>\n",
              "      <th>pdays</th>\n",
              "      <th>previous</th>\n",
              "      <th>poutcome</th>\n",
              "      <th>emp_var_rate</th>\n",
              "      <th>cons_price_idx</th>\n",
              "      <th>cons_conf_idx</th>\n",
              "      <th>euribor3m</th>\n",
              "      <th>nr_employed</th>\n",
              "      <th>y</th>\n",
              "    </tr>\n",
              "  </thead>\n",
              "  <tbody>\n",
              "    <tr>\n",
              "      <th>0</th>\n",
              "      <td>44</td>\n",
              "      <td>blue-collar</td>\n",
              "      <td>married</td>\n",
              "      <td>basic.4y</td>\n",
              "      <td>unknown</td>\n",
              "      <td>yes</td>\n",
              "      <td>no</td>\n",
              "      <td>cellular</td>\n",
              "      <td>aug</td>\n",
              "      <td>thu</td>\n",
              "      <td>210</td>\n",
              "      <td>1</td>\n",
              "      <td>999.0</td>\n",
              "      <td>0</td>\n",
              "      <td>nonexistent</td>\n",
              "      <td>1.4</td>\n",
              "      <td>93.444</td>\n",
              "      <td>-36.1</td>\n",
              "      <td>4.963</td>\n",
              "      <td>5228.1</td>\n",
              "      <td>0</td>\n",
              "    </tr>\n",
              "    <tr>\n",
              "      <th>1</th>\n",
              "      <td>53</td>\n",
              "      <td>technician</td>\n",
              "      <td>married</td>\n",
              "      <td>unknown</td>\n",
              "      <td>no</td>\n",
              "      <td>no</td>\n",
              "      <td>no</td>\n",
              "      <td>cellular</td>\n",
              "      <td>nov</td>\n",
              "      <td>fri</td>\n",
              "      <td>138</td>\n",
              "      <td>1</td>\n",
              "      <td>999.0</td>\n",
              "      <td>0</td>\n",
              "      <td>nonexistent</td>\n",
              "      <td>-0.1</td>\n",
              "      <td>93.200</td>\n",
              "      <td>-42.0</td>\n",
              "      <td>4.021</td>\n",
              "      <td>5195.8</td>\n",
              "      <td>0</td>\n",
              "    </tr>\n",
              "    <tr>\n",
              "      <th>2</th>\n",
              "      <td>28</td>\n",
              "      <td>management</td>\n",
              "      <td>single</td>\n",
              "      <td>university.degree</td>\n",
              "      <td>no</td>\n",
              "      <td>yes</td>\n",
              "      <td>no</td>\n",
              "      <td>cellular</td>\n",
              "      <td>jun</td>\n",
              "      <td>thu</td>\n",
              "      <td>339</td>\n",
              "      <td>3</td>\n",
              "      <td>6.0</td>\n",
              "      <td>2</td>\n",
              "      <td>success</td>\n",
              "      <td>-1.7</td>\n",
              "      <td>94.055</td>\n",
              "      <td>-39.8</td>\n",
              "      <td>0.729</td>\n",
              "      <td>4991.6</td>\n",
              "      <td>1</td>\n",
              "    </tr>\n",
              "    <tr>\n",
              "      <th>3</th>\n",
              "      <td>39</td>\n",
              "      <td>services</td>\n",
              "      <td>married</td>\n",
              "      <td>high.school</td>\n",
              "      <td>no</td>\n",
              "      <td>no</td>\n",
              "      <td>no</td>\n",
              "      <td>cellular</td>\n",
              "      <td>apr</td>\n",
              "      <td>fri</td>\n",
              "      <td>185</td>\n",
              "      <td>2</td>\n",
              "      <td>999.0</td>\n",
              "      <td>0</td>\n",
              "      <td>nonexistent</td>\n",
              "      <td>-1.8</td>\n",
              "      <td>93.075</td>\n",
              "      <td>-47.1</td>\n",
              "      <td>1.405</td>\n",
              "      <td>5099.1</td>\n",
              "      <td>0</td>\n",
              "    </tr>\n",
              "    <tr>\n",
              "      <th>4</th>\n",
              "      <td>55</td>\n",
              "      <td>retired</td>\n",
              "      <td>married</td>\n",
              "      <td>basic.4y</td>\n",
              "      <td>no</td>\n",
              "      <td>yes</td>\n",
              "      <td>no</td>\n",
              "      <td>cellular</td>\n",
              "      <td>aug</td>\n",
              "      <td>fri</td>\n",
              "      <td>137</td>\n",
              "      <td>1</td>\n",
              "      <td>3.0</td>\n",
              "      <td>1</td>\n",
              "      <td>success</td>\n",
              "      <td>-2.9</td>\n",
              "      <td>92.201</td>\n",
              "      <td>-31.4</td>\n",
              "      <td>0.869</td>\n",
              "      <td>5076.2</td>\n",
              "      <td>1</td>\n",
              "    </tr>\n",
              "  </tbody>\n",
              "</table>\n",
              "</div>"
            ],
            "text/plain": [
              "  age          job  marital  ... euribor3m nr_employed  y\n",
              "0  44  blue-collar  married  ...     4.963      5228.1  0\n",
              "1  53   technician  married  ...     4.021      5195.8  0\n",
              "2  28   management   single  ...     0.729      4991.6  1\n",
              "3  39     services  married  ...     1.405      5099.1  0\n",
              "4  55      retired  married  ...     0.869      5076.2  1\n",
              "\n",
              "[5 rows x 21 columns]"
            ]
          },
          "metadata": {},
          "execution_count": 301
        }
      ]
    },
    {
      "cell_type": "markdown",
      "metadata": {
        "id": "ejmFkEFQPeXo"
      },
      "source": [
        "Checking The Tail"
      ]
    },
    {
      "cell_type": "code",
      "metadata": {
        "colab": {
          "base_uri": "https://localhost:8080/",
          "height": 225
        },
        "id": "StMWL5Y1OZ4-",
        "outputId": "b01286cb-84ff-40f8-b1ca-631a134145ce"
      },
      "source": [
        "bank_data.tail()"
      ],
      "execution_count": 302,
      "outputs": [
        {
          "output_type": "execute_result",
          "data": {
            "text/html": [
              "<div>\n",
              "<style scoped>\n",
              "    .dataframe tbody tr th:only-of-type {\n",
              "        vertical-align: middle;\n",
              "    }\n",
              "\n",
              "    .dataframe tbody tr th {\n",
              "        vertical-align: top;\n",
              "    }\n",
              "\n",
              "    .dataframe thead th {\n",
              "        text-align: right;\n",
              "    }\n",
              "</style>\n",
              "<table border=\"1\" class=\"dataframe\">\n",
              "  <thead>\n",
              "    <tr style=\"text-align: right;\">\n",
              "      <th></th>\n",
              "      <th>age</th>\n",
              "      <th>job</th>\n",
              "      <th>marital</th>\n",
              "      <th>education</th>\n",
              "      <th>default</th>\n",
              "      <th>housing</th>\n",
              "      <th>loan</th>\n",
              "      <th>contact</th>\n",
              "      <th>month</th>\n",
              "      <th>day_of_week</th>\n",
              "      <th>duration</th>\n",
              "      <th>campaign</th>\n",
              "      <th>pdays</th>\n",
              "      <th>previous</th>\n",
              "      <th>poutcome</th>\n",
              "      <th>emp_var_rate</th>\n",
              "      <th>cons_price_idx</th>\n",
              "      <th>cons_conf_idx</th>\n",
              "      <th>euribor3m</th>\n",
              "      <th>nr_employed</th>\n",
              "      <th>y</th>\n",
              "    </tr>\n",
              "  </thead>\n",
              "  <tbody>\n",
              "    <tr>\n",
              "      <th>41183</th>\n",
              "      <td>59</td>\n",
              "      <td>retired</td>\n",
              "      <td>married</td>\n",
              "      <td>high.school</td>\n",
              "      <td>unknown</td>\n",
              "      <td>no</td>\n",
              "      <td>yes</td>\n",
              "      <td>telephone</td>\n",
              "      <td>jun</td>\n",
              "      <td>thu</td>\n",
              "      <td>222</td>\n",
              "      <td>1</td>\n",
              "      <td>999.0</td>\n",
              "      <td>0</td>\n",
              "      <td>nonexistent</td>\n",
              "      <td>1.4</td>\n",
              "      <td>94.465</td>\n",
              "      <td>-41.8</td>\n",
              "      <td>4.866</td>\n",
              "      <td>5228.1</td>\n",
              "      <td>0</td>\n",
              "    </tr>\n",
              "    <tr>\n",
              "      <th>41184</th>\n",
              "      <td>31</td>\n",
              "      <td>housemaid</td>\n",
              "      <td>married</td>\n",
              "      <td>basic.4y</td>\n",
              "      <td>unknown</td>\n",
              "      <td>no</td>\n",
              "      <td>no</td>\n",
              "      <td>telephone</td>\n",
              "      <td>may</td>\n",
              "      <td>thu</td>\n",
              "      <td>196</td>\n",
              "      <td>2</td>\n",
              "      <td>999.0</td>\n",
              "      <td>0</td>\n",
              "      <td>nonexistent</td>\n",
              "      <td>1.1</td>\n",
              "      <td>93.994</td>\n",
              "      <td>-36.4</td>\n",
              "      <td>4.860</td>\n",
              "      <td>5191.0</td>\n",
              "      <td>0</td>\n",
              "    </tr>\n",
              "    <tr>\n",
              "      <th>41185</th>\n",
              "      <td>42</td>\n",
              "      <td>admin.</td>\n",
              "      <td>single</td>\n",
              "      <td>university.degree</td>\n",
              "      <td>unknown</td>\n",
              "      <td>yes</td>\n",
              "      <td>yes</td>\n",
              "      <td>telephone</td>\n",
              "      <td>may</td>\n",
              "      <td>wed</td>\n",
              "      <td>62</td>\n",
              "      <td>3</td>\n",
              "      <td>999.0</td>\n",
              "      <td>0</td>\n",
              "      <td>nonexistent</td>\n",
              "      <td>1.1</td>\n",
              "      <td>93.994</td>\n",
              "      <td>-36.4</td>\n",
              "      <td>4.857</td>\n",
              "      <td>5191.0</td>\n",
              "      <td>0</td>\n",
              "    </tr>\n",
              "    <tr>\n",
              "      <th>41186</th>\n",
              "      <td>48</td>\n",
              "      <td>technician</td>\n",
              "      <td>married</td>\n",
              "      <td>professional.course</td>\n",
              "      <td>no</td>\n",
              "      <td>no</td>\n",
              "      <td>yes</td>\n",
              "      <td>telephone</td>\n",
              "      <td>oct</td>\n",
              "      <td>tue</td>\n",
              "      <td>200</td>\n",
              "      <td>2</td>\n",
              "      <td>999.0</td>\n",
              "      <td>0</td>\n",
              "      <td>nonexistent</td>\n",
              "      <td>-3.4</td>\n",
              "      <td>92.431</td>\n",
              "      <td>-26.9</td>\n",
              "      <td>0.742</td>\n",
              "      <td>5017.5</td>\n",
              "      <td>0</td>\n",
              "    </tr>\n",
              "    <tr>\n",
              "      <th>41187</th>\n",
              "      <td>25</td>\n",
              "      <td>student</td>\n",
              "      <td>single</td>\n",
              "      <td>high.school</td>\n",
              "      <td>no</td>\n",
              "      <td>no</td>\n",
              "      <td>no</td>\n",
              "      <td>telephone</td>\n",
              "      <td>may</td>\n",
              "      <td>fri</td>\n",
              "      <td>112</td>\n",
              "      <td>4</td>\n",
              "      <td>999.0</td>\n",
              "      <td>0</td>\n",
              "      <td>nonexistent</td>\n",
              "      <td>1.1</td>\n",
              "      <td>93.994</td>\n",
              "      <td>-36.4</td>\n",
              "      <td>4.859</td>\n",
              "      <td>5191.0</td>\n",
              "      <td>0</td>\n",
              "    </tr>\n",
              "  </tbody>\n",
              "</table>\n",
              "</div>"
            ],
            "text/plain": [
              "      age         job  marital  ... euribor3m nr_employed  y\n",
              "41183  59     retired  married  ...     4.866      5228.1  0\n",
              "41184  31   housemaid  married  ...     4.860      5191.0  0\n",
              "41185  42      admin.   single  ...     4.857      5191.0  0\n",
              "41186  48  technician  married  ...     0.742      5017.5  0\n",
              "41187  25     student   single  ...     4.859      5191.0  0\n",
              "\n",
              "[5 rows x 21 columns]"
            ]
          },
          "metadata": {},
          "execution_count": 302
        }
      ]
    },
    {
      "cell_type": "markdown",
      "metadata": {
        "id": "6rOw6slKPn1S"
      },
      "source": [
        "Checking Info of Each Column"
      ]
    },
    {
      "cell_type": "code",
      "metadata": {
        "colab": {
          "base_uri": "https://localhost:8080/"
        },
        "id": "U9uxadfOOXOC",
        "outputId": "b5ec5419-d014-4875-db57-8d7533c283f0"
      },
      "source": [
        "bank_data.info()"
      ],
      "execution_count": 303,
      "outputs": [
        {
          "output_type": "stream",
          "name": "stdout",
          "text": [
            "<class 'pandas.core.frame.DataFrame'>\n",
            "RangeIndex: 41188 entries, 0 to 41187\n",
            "Data columns (total 21 columns):\n",
            " #   Column          Non-Null Count  Dtype  \n",
            "---  ------          --------------  -----  \n",
            " 0   age             41188 non-null  object \n",
            " 1   job             41188 non-null  object \n",
            " 2   marital         41188 non-null  object \n",
            " 3   education       41188 non-null  object \n",
            " 4   default         41188 non-null  object \n",
            " 5   housing         41188 non-null  object \n",
            " 6   loan            41188 non-null  object \n",
            " 7   contact         41188 non-null  object \n",
            " 8   month           41188 non-null  object \n",
            " 9   day_of_week     41188 non-null  object \n",
            " 10  duration        41188 non-null  int64  \n",
            " 11  campaign        41188 non-null  int64  \n",
            " 12  pdays           41188 non-null  float64\n",
            " 13  previous        41188 non-null  int64  \n",
            " 14  poutcome        41188 non-null  object \n",
            " 15  emp_var_rate    41188 non-null  float64\n",
            " 16  cons_price_idx  41188 non-null  float64\n",
            " 17  cons_conf_idx   41188 non-null  float64\n",
            " 18  euribor3m       41188 non-null  float64\n",
            " 19  nr_employed     41188 non-null  float64\n",
            " 20  y               41188 non-null  int64  \n",
            "dtypes: float64(6), int64(4), object(11)\n",
            "memory usage: 6.6+ MB\n"
          ]
        }
      ]
    },
    {
      "cell_type": "markdown",
      "metadata": {
        "id": "Fh-AFUz8PvZm"
      },
      "source": [
        "Mathematical Details of Each Features"
      ]
    },
    {
      "cell_type": "code",
      "metadata": {
        "colab": {
          "base_uri": "https://localhost:8080/",
          "height": 362
        },
        "id": "m8XH2d80PukF",
        "outputId": "ff448a89-4358-458c-bafe-11f8642fed6d"
      },
      "source": [
        "bank_data.describe().T"
      ],
      "execution_count": 304,
      "outputs": [
        {
          "output_type": "execute_result",
          "data": {
            "text/html": [
              "<div>\n",
              "<style scoped>\n",
              "    .dataframe tbody tr th:only-of-type {\n",
              "        vertical-align: middle;\n",
              "    }\n",
              "\n",
              "    .dataframe tbody tr th {\n",
              "        vertical-align: top;\n",
              "    }\n",
              "\n",
              "    .dataframe thead th {\n",
              "        text-align: right;\n",
              "    }\n",
              "</style>\n",
              "<table border=\"1\" class=\"dataframe\">\n",
              "  <thead>\n",
              "    <tr style=\"text-align: right;\">\n",
              "      <th></th>\n",
              "      <th>count</th>\n",
              "      <th>mean</th>\n",
              "      <th>std</th>\n",
              "      <th>min</th>\n",
              "      <th>25%</th>\n",
              "      <th>50%</th>\n",
              "      <th>75%</th>\n",
              "      <th>max</th>\n",
              "    </tr>\n",
              "  </thead>\n",
              "  <tbody>\n",
              "    <tr>\n",
              "      <th>duration</th>\n",
              "      <td>41188.0</td>\n",
              "      <td>258.285010</td>\n",
              "      <td>259.279249</td>\n",
              "      <td>0.000</td>\n",
              "      <td>102.000</td>\n",
              "      <td>180.000</td>\n",
              "      <td>319.000</td>\n",
              "      <td>4918.000</td>\n",
              "    </tr>\n",
              "    <tr>\n",
              "      <th>campaign</th>\n",
              "      <td>41188.0</td>\n",
              "      <td>2.567593</td>\n",
              "      <td>2.770014</td>\n",
              "      <td>1.000</td>\n",
              "      <td>1.000</td>\n",
              "      <td>2.000</td>\n",
              "      <td>3.000</td>\n",
              "      <td>56.000</td>\n",
              "    </tr>\n",
              "    <tr>\n",
              "      <th>pdays</th>\n",
              "      <td>41188.0</td>\n",
              "      <td>963.568005</td>\n",
              "      <td>211.772296</td>\n",
              "      <td>0.000</td>\n",
              "      <td>999.000</td>\n",
              "      <td>999.000</td>\n",
              "      <td>999.000</td>\n",
              "      <td>9999.000</td>\n",
              "    </tr>\n",
              "    <tr>\n",
              "      <th>previous</th>\n",
              "      <td>41188.0</td>\n",
              "      <td>0.172963</td>\n",
              "      <td>0.494901</td>\n",
              "      <td>0.000</td>\n",
              "      <td>0.000</td>\n",
              "      <td>0.000</td>\n",
              "      <td>0.000</td>\n",
              "      <td>7.000</td>\n",
              "    </tr>\n",
              "    <tr>\n",
              "      <th>emp_var_rate</th>\n",
              "      <td>41188.0</td>\n",
              "      <td>0.081886</td>\n",
              "      <td>1.570960</td>\n",
              "      <td>-3.400</td>\n",
              "      <td>-1.800</td>\n",
              "      <td>1.100</td>\n",
              "      <td>1.400</td>\n",
              "      <td>1.400</td>\n",
              "    </tr>\n",
              "    <tr>\n",
              "      <th>cons_price_idx</th>\n",
              "      <td>41188.0</td>\n",
              "      <td>93.575664</td>\n",
              "      <td>0.578840</td>\n",
              "      <td>92.201</td>\n",
              "      <td>93.075</td>\n",
              "      <td>93.749</td>\n",
              "      <td>93.994</td>\n",
              "      <td>94.767</td>\n",
              "    </tr>\n",
              "    <tr>\n",
              "      <th>cons_conf_idx</th>\n",
              "      <td>41188.0</td>\n",
              "      <td>-40.502600</td>\n",
              "      <td>4.628198</td>\n",
              "      <td>-50.800</td>\n",
              "      <td>-42.700</td>\n",
              "      <td>-41.800</td>\n",
              "      <td>-36.400</td>\n",
              "      <td>-26.900</td>\n",
              "    </tr>\n",
              "    <tr>\n",
              "      <th>euribor3m</th>\n",
              "      <td>41188.0</td>\n",
              "      <td>3.621291</td>\n",
              "      <td>1.734447</td>\n",
              "      <td>0.634</td>\n",
              "      <td>1.344</td>\n",
              "      <td>4.857</td>\n",
              "      <td>4.961</td>\n",
              "      <td>5.045</td>\n",
              "    </tr>\n",
              "    <tr>\n",
              "      <th>nr_employed</th>\n",
              "      <td>41188.0</td>\n",
              "      <td>5167.035911</td>\n",
              "      <td>72.251528</td>\n",
              "      <td>4963.600</td>\n",
              "      <td>5099.100</td>\n",
              "      <td>5191.000</td>\n",
              "      <td>5228.100</td>\n",
              "      <td>5228.100</td>\n",
              "    </tr>\n",
              "    <tr>\n",
              "      <th>y</th>\n",
              "      <td>41188.0</td>\n",
              "      <td>0.112654</td>\n",
              "      <td>0.316173</td>\n",
              "      <td>0.000</td>\n",
              "      <td>0.000</td>\n",
              "      <td>0.000</td>\n",
              "      <td>0.000</td>\n",
              "      <td>1.000</td>\n",
              "    </tr>\n",
              "  </tbody>\n",
              "</table>\n",
              "</div>"
            ],
            "text/plain": [
              "                  count         mean         std  ...       50%       75%       max\n",
              "duration        41188.0   258.285010  259.279249  ...   180.000   319.000  4918.000\n",
              "campaign        41188.0     2.567593    2.770014  ...     2.000     3.000    56.000\n",
              "pdays           41188.0   963.568005  211.772296  ...   999.000   999.000  9999.000\n",
              "previous        41188.0     0.172963    0.494901  ...     0.000     0.000     7.000\n",
              "emp_var_rate    41188.0     0.081886    1.570960  ...     1.100     1.400     1.400\n",
              "cons_price_idx  41188.0    93.575664    0.578840  ...    93.749    93.994    94.767\n",
              "cons_conf_idx   41188.0   -40.502600    4.628198  ...   -41.800   -36.400   -26.900\n",
              "euribor3m       41188.0     3.621291    1.734447  ...     4.857     4.961     5.045\n",
              "nr_employed     41188.0  5167.035911   72.251528  ...  5191.000  5228.100  5228.100\n",
              "y               41188.0     0.112654    0.316173  ...     0.000     0.000     1.000\n",
              "\n",
              "[10 rows x 8 columns]"
            ]
          },
          "metadata": {},
          "execution_count": 304
        }
      ]
    },
    {
      "cell_type": "markdown",
      "metadata": {
        "id": "Y1Gq7htfQvvj"
      },
      "source": [
        "Checking for Missing Value"
      ]
    },
    {
      "cell_type": "code",
      "metadata": {
        "colab": {
          "base_uri": "https://localhost:8080/"
        },
        "id": "ZnMdoq_IQK95",
        "outputId": "28466628-3a08-454c-dc50-937c9555e98b"
      },
      "source": [
        "bank_data.isnull().sum()"
      ],
      "execution_count": 305,
      "outputs": [
        {
          "output_type": "execute_result",
          "data": {
            "text/plain": [
              "age               0\n",
              "job               0\n",
              "marital           0\n",
              "education         0\n",
              "default           0\n",
              "housing           0\n",
              "loan              0\n",
              "contact           0\n",
              "month             0\n",
              "day_of_week       0\n",
              "duration          0\n",
              "campaign          0\n",
              "pdays             0\n",
              "previous          0\n",
              "poutcome          0\n",
              "emp_var_rate      0\n",
              "cons_price_idx    0\n",
              "cons_conf_idx     0\n",
              "euribor3m         0\n",
              "nr_employed       0\n",
              "y                 0\n",
              "dtype: int64"
            ]
          },
          "metadata": {},
          "execution_count": 305
        }
      ]
    },
    {
      "cell_type": "code",
      "metadata": {
        "colab": {
          "base_uri": "https://localhost:8080/"
        },
        "id": "OpSmfWFWsLFp",
        "outputId": "c9e98252-02ec-4cbd-cc29-01189eb7bbcd"
      },
      "source": [
        "bank_data['y'].value_counts()"
      ],
      "execution_count": 306,
      "outputs": [
        {
          "output_type": "execute_result",
          "data": {
            "text/plain": [
              "0    36548\n",
              "1     4640\n",
              "Name: y, dtype: int64"
            ]
          },
          "metadata": {},
          "execution_count": 306
        }
      ]
    },
    {
      "cell_type": "markdown",
      "metadata": {
        "id": "g4fS18caQ0IN"
      },
      "source": [
        "Checking Each Feature"
      ]
    },
    {
      "cell_type": "markdown",
      "metadata": {
        "id": "ydJAPqi-Ry-e"
      },
      "source": [
        "# **Age Column**"
      ]
    },
    {
      "cell_type": "markdown",
      "metadata": {
        "id": "nOiCDqpZR7g5"
      },
      "source": [
        "Checking Count of Each Value"
      ]
    },
    {
      "cell_type": "code",
      "metadata": {
        "colab": {
          "base_uri": "https://localhost:8080/"
        },
        "id": "XKs8DLuRQurq",
        "outputId": "6ab6008a-21ca-4e01-d26c-7f19bfd3db1d"
      },
      "source": [
        "bank_data['age'].value_counts()"
      ],
      "execution_count": 307,
      "outputs": [
        {
          "output_type": "execute_result",
          "data": {
            "text/plain": [
              "31       1530\n",
              "32       1456\n",
              "33       1452\n",
              "35       1431\n",
              "36       1408\n",
              "         ... \n",
              "94          1\n",
              "87          1\n",
              "17          1\n",
              "35-30       1\n",
              "18-25       1\n",
              "Name: age, Length: 159, dtype: int64"
            ]
          },
          "metadata": {},
          "execution_count": 307
        }
      ]
    },
    {
      "cell_type": "markdown",
      "metadata": {
        "id": "exExz9FQR-jW"
      },
      "source": [
        "Checking unique Values"
      ]
    },
    {
      "cell_type": "code",
      "metadata": {
        "colab": {
          "base_uri": "https://localhost:8080/"
        },
        "id": "VseFDU3NRVx2",
        "outputId": "cf8b4a2a-99ea-4069-baab-c46946e02a54"
      },
      "source": [
        "bank_data.age.unique()"
      ],
      "execution_count": 308,
      "outputs": [
        {
          "output_type": "execute_result",
          "data": {
            "text/plain": [
              "array(['44', '53', '28', '39', '55', '30', '37', '36', '27', '34', '41',\n",
              "       '33', '26', '52', '35', '40', '32', '49', '38', '47', '46', '29',\n",
              "       '54', '42', '72', '48', '43', '56', '31', '24', '68', '59', '50',\n",
              "       '45', '35-30', '25', '57', '63', '58', '60', '30-35', '64', '51',\n",
              "       '23', '20', '74', '80', '61', '25-30', '62', '75', '21', '82',\n",
              "       '77', '18-25', '30-32', '70', '50-55', '76', '73', '66', '22',\n",
              "       '71', '19', '79', '88', '65', '67', '81', '18', '84', '69', '98',\n",
              "       '85', '83', '78', '92', '45-50', '20-25', '20-40', '35-40', '86',\n",
              "       '94', '17', '91', '89', '87', '95', '30-40', 56, 39, 30, 53, 37,\n",
              "       22, 45, 31, 24, 50, 58, 33, 27, 28, 32, 51, 41, 49, 43, 44, 35, 29,\n",
              "       26, 57, 25, 42, 48, 46, 67, 38, 34, 54, 40, 23, 47, 62, 75, 55, 36,\n",
              "       52, 59, 78, 70, 60, 20, 66, 61, 21, 88, 18, 68, 71, 73, 80, 79, 63,\n",
              "       76, 83, 65, 19, 86, 17, 72, 69, 81, 64, 77, 74, 85, 82],\n",
              "      dtype=object)"
            ]
          },
          "metadata": {},
          "execution_count": 308
        }
      ]
    },
    {
      "cell_type": "markdown",
      "metadata": {
        "id": "2XOD2eRpRfKD"
      },
      "source": [
        "There are some Values in Ranges we Have  convert them into a Fix Value so for that we are replacing them with their Mean"
      ]
    },
    {
      "cell_type": "code",
      "metadata": {
        "id": "lBBzgmw_QgoW"
      },
      "source": [
        "bank_data['age']=bank_data['age'].replace({'18-25': 22,'20-40':30,'30-32':31,'25-30':28,'30-40':35,'50-55':53,'45-50':48,'35-40':38,'20-25':23,'30-35':33,'35-30':32,'44':44,'53':53,'28':28,'39':39})"
      ],
      "execution_count": 309,
      "outputs": []
    },
    {
      "cell_type": "markdown",
      "metadata": {
        "id": "VDv5NhzKSQ9x"
      },
      "source": [
        "Checking Data Type Of Age Column"
      ]
    },
    {
      "cell_type": "code",
      "metadata": {
        "colab": {
          "base_uri": "https://localhost:8080/"
        },
        "id": "84-sVC2oSN9T",
        "outputId": "20f23bf3-9310-46c3-91a3-54c3c4ee76e1"
      },
      "source": [
        "bank_data['age'].dtypes"
      ],
      "execution_count": 310,
      "outputs": [
        {
          "output_type": "execute_result",
          "data": {
            "text/plain": [
              "dtype('int64')"
            ]
          },
          "metadata": {},
          "execution_count": 310
        }
      ]
    },
    {
      "cell_type": "markdown",
      "metadata": {
        "id": "X7Xn4qySTIGS"
      },
      "source": [
        "# Job Column"
      ]
    },
    {
      "cell_type": "markdown",
      "metadata": {
        "id": "wXis02ROTc4z"
      },
      "source": [
        "*Checking Count of Each Job*"
      ]
    },
    {
      "cell_type": "code",
      "metadata": {
        "colab": {
          "base_uri": "https://localhost:8080/"
        },
        "id": "p-x8mnytTLqv",
        "outputId": "5f277a78-158d-4b52-f5bb-a547c9290f86"
      },
      "source": [
        "bank_data[\"job\"].value_counts()"
      ],
      "execution_count": 311,
      "outputs": [
        {
          "output_type": "execute_result",
          "data": {
            "text/plain": [
              "admin.           10420\n",
              "blue-collar       9253\n",
              "technician        6742\n",
              "services          3966\n",
              "management        2923\n",
              "retired           1717\n",
              "entrepreneur      1456\n",
              "self-employed     1421\n",
              "housemaid         1059\n",
              "unemployed        1014\n",
              "student            873\n",
              "unknown            329\n",
              "RETIRED              3\n",
              "SERVICES             3\n",
              "ADMIN.               2\n",
              "STUDENT              2\n",
              "MANAGEMENT           1\n",
              "TECHNICIAN           1\n",
              "BLUE-COLLAR          1\n",
              "UNKNOWN              1\n",
              "HOUSEMAID            1\n",
              "Name: job, dtype: int64"
            ]
          },
          "metadata": {},
          "execution_count": 311
        }
      ]
    },
    {
      "cell_type": "markdown",
      "metadata": {
        "id": "gKumUg8ETlQM"
      },
      "source": [
        "Checking For Unique"
      ]
    },
    {
      "cell_type": "code",
      "metadata": {
        "colab": {
          "base_uri": "https://localhost:8080/"
        },
        "id": "ronlsq5XToal",
        "outputId": "796c7625-1522-4525-fada-aaa539b5adbd"
      },
      "source": [
        "bank_data.job.unique()"
      ],
      "execution_count": 312,
      "outputs": [
        {
          "output_type": "execute_result",
          "data": {
            "text/plain": [
              "array(['blue-collar', 'technician', 'management', 'services', 'retired',\n",
              "       'admin.', 'housemaid', 'unemployed', 'entrepreneur',\n",
              "       'self-employed', 'unknown', 'student', 'MANAGEMENT', 'RETIRED',\n",
              "       'STUDENT', 'ADMIN.', 'TECHNICIAN', 'BLUE-COLLAR', 'HOUSEMAID',\n",
              "       'SERVICES', 'UNKNOWN'], dtype=object)"
            ]
          },
          "metadata": {},
          "execution_count": 312
        }
      ]
    },
    {
      "cell_type": "markdown",
      "metadata": {
        "id": "GkQwr6VaTvh-"
      },
      "source": [
        "As We can see that Some of The Job's Are repeated, only written Different"
      ]
    },
    {
      "cell_type": "code",
      "metadata": {
        "id": "7qXc2EB1T5Bb"
      },
      "source": [
        " bank_data['job'].replace({\"technician\":\"TECHNICIAN\",\"blue-collar\":\"BLUE-COLLAR\",\"management\":\"MANAGEMENT\",\"services\":\"SERVICES\",\"retired\":\"RETIRED\",\"admin.\":\"ADMIN\",\"housemaid\":\"HOUSEMAID\",\"unknown\":\"ADMIN\",\"UNKNOWN\":\"ADMIN\",\"student\":\"STUDENT\",\"ADMIN.\":\"ADMIN\"},inplace=True)"
      ],
      "execution_count": 313,
      "outputs": []
    },
    {
      "cell_type": "code",
      "metadata": {
        "colab": {
          "base_uri": "https://localhost:8080/"
        },
        "id": "1cnM_Di3Udz3",
        "outputId": "a2cf8fa5-3a4e-48fc-e2d4-79e029b012d3"
      },
      "source": [
        "bank_data.job.unique()"
      ],
      "execution_count": 314,
      "outputs": [
        {
          "output_type": "execute_result",
          "data": {
            "text/plain": [
              "array(['BLUE-COLLAR', 'TECHNICIAN', 'MANAGEMENT', 'SERVICES', 'RETIRED',\n",
              "       'ADMIN', 'HOUSEMAID', 'unemployed', 'entrepreneur',\n",
              "       'self-employed', 'STUDENT'], dtype=object)"
            ]
          },
          "metadata": {},
          "execution_count": 314
        }
      ]
    },
    {
      "cell_type": "code",
      "metadata": {
        "colab": {
          "base_uri": "https://localhost:8080/"
        },
        "id": "oOmtZD1BVPVd",
        "outputId": "0f48a3e4-347a-407e-f9f7-a5622f5431c2"
      },
      "source": [
        "bank_data[\"job\"].value_counts()"
      ],
      "execution_count": 315,
      "outputs": [
        {
          "output_type": "execute_result",
          "data": {
            "text/plain": [
              "ADMIN            10752\n",
              "BLUE-COLLAR       9254\n",
              "TECHNICIAN        6743\n",
              "SERVICES          3969\n",
              "MANAGEMENT        2924\n",
              "RETIRED           1720\n",
              "entrepreneur      1456\n",
              "self-employed     1421\n",
              "HOUSEMAID         1060\n",
              "unemployed        1014\n",
              "STUDENT            875\n",
              "Name: job, dtype: int64"
            ]
          },
          "metadata": {},
          "execution_count": 315
        }
      ]
    },
    {
      "cell_type": "markdown",
      "metadata": {
        "id": "IAZ4yBiCVbZP"
      },
      "source": [
        "# Marital Column"
      ]
    },
    {
      "cell_type": "code",
      "metadata": {
        "colab": {
          "base_uri": "https://localhost:8080/"
        },
        "id": "0IAr5vOiVYTa",
        "outputId": "8190e5d6-aae6-4058-f135-5abbaede0c8c"
      },
      "source": [
        "bank_data['marital'].unique()"
      ],
      "execution_count": 316,
      "outputs": [
        {
          "output_type": "execute_result",
          "data": {
            "text/plain": [
              "array(['married', 'single', 'divorced', 'D', 'unknown', 'S', 'M'],\n",
              "      dtype=object)"
            ]
          },
          "metadata": {},
          "execution_count": 316
        }
      ]
    },
    {
      "cell_type": "code",
      "metadata": {
        "colab": {
          "base_uri": "https://localhost:8080/"
        },
        "id": "ypXTC4CbVvIO",
        "outputId": "6816d448-c179-45ec-e07f-483610c5f8bf"
      },
      "source": [
        "bank_data[\"marital\"].value_counts()"
      ],
      "execution_count": 317,
      "outputs": [
        {
          "output_type": "execute_result",
          "data": {
            "text/plain": [
              "married     24923\n",
              "single      11565\n",
              "divorced     4608\n",
              "unknown        80\n",
              "M               5\n",
              "D               4\n",
              "S               3\n",
              "Name: marital, dtype: int64"
            ]
          },
          "metadata": {},
          "execution_count": 317
        }
      ]
    },
    {
      "cell_type": "code",
      "metadata": {
        "id": "EOQ0ABWvVmQ8"
      },
      "source": [
        "bank_data['marital'].replace({\"M\":\"married\",\"S\":\"single\",\"D\":\"divorced\",\"unknown\":\"married\"},inplace=True)"
      ],
      "execution_count": 318,
      "outputs": []
    },
    {
      "cell_type": "code",
      "metadata": {
        "colab": {
          "base_uri": "https://localhost:8080/"
        },
        "id": "MYfl-InWVtK4",
        "outputId": "5ac9d484-d4d9-4653-843d-99148c263963"
      },
      "source": [
        "bank_data['marital'].unique()"
      ],
      "execution_count": 319,
      "outputs": [
        {
          "output_type": "execute_result",
          "data": {
            "text/plain": [
              "array(['married', 'single', 'divorced'], dtype=object)"
            ]
          },
          "metadata": {},
          "execution_count": 319
        }
      ]
    },
    {
      "cell_type": "code",
      "metadata": {
        "colab": {
          "base_uri": "https://localhost:8080/"
        },
        "id": "L1TR5-AdV50y",
        "outputId": "884d819c-1ff2-4f89-c910-5ded5c7d0478"
      },
      "source": [
        "bank_data[\"marital\"].value_counts()"
      ],
      "execution_count": 320,
      "outputs": [
        {
          "output_type": "execute_result",
          "data": {
            "text/plain": [
              "married     25008\n",
              "single      11568\n",
              "divorced     4612\n",
              "Name: marital, dtype: int64"
            ]
          },
          "metadata": {},
          "execution_count": 320
        }
      ]
    },
    {
      "cell_type": "markdown",
      "metadata": {
        "id": "jxWYgWeKWDOZ"
      },
      "source": [
        "# Education Column"
      ]
    },
    {
      "cell_type": "code",
      "metadata": {
        "colab": {
          "base_uri": "https://localhost:8080/"
        },
        "id": "6V1B0HpxWCqm",
        "outputId": "e418aa12-68d9-46e6-9b0f-130824150d3e"
      },
      "source": [
        "bank_data['education'].unique()"
      ],
      "execution_count": 321,
      "outputs": [
        {
          "output_type": "execute_result",
          "data": {
            "text/plain": [
              "array(['basic.4y', 'unknown', 'university.degree', 'high.school',\n",
              "       'basic.9y', 'professional.course', 'basic.6y', 'basic-6y',\n",
              "       'basic-9y', 'basic-4y', 'illiterate'], dtype=object)"
            ]
          },
          "metadata": {},
          "execution_count": 321
        }
      ]
    },
    {
      "cell_type": "code",
      "metadata": {
        "colab": {
          "base_uri": "https://localhost:8080/"
        },
        "id": "XqNdnOCsWd_7",
        "outputId": "bb03f6f6-f761-419b-fa39-cad66e34e810"
      },
      "source": [
        "bank_data[\"education\"].value_counts()"
      ],
      "execution_count": 322,
      "outputs": [
        {
          "output_type": "execute_result",
          "data": {
            "text/plain": [
              "university.degree      12168\n",
              "high.school             9515\n",
              "basic.9y                6035\n",
              "professional.course     5243\n",
              "basic.4y                4164\n",
              "basic.6y                2286\n",
              "unknown                 1731\n",
              "illiterate                18\n",
              "basic-4y                  12\n",
              "basic-9y                  10\n",
              "basic-6y                   6\n",
              "Name: education, dtype: int64"
            ]
          },
          "metadata": {},
          "execution_count": 322
        }
      ]
    },
    {
      "cell_type": "code",
      "metadata": {
        "id": "5BHtqKViWUhV"
      },
      "source": [
        "bank_data['education'].replace({'basic-6y':'basic.6y','basic-9y':'basic.9y','basic-4y':'basic.4y','unknown':'university.degree'},inplace=True)"
      ],
      "execution_count": 323,
      "outputs": []
    },
    {
      "cell_type": "code",
      "metadata": {
        "colab": {
          "base_uri": "https://localhost:8080/"
        },
        "id": "ysT2UzkNWk2S",
        "outputId": "2b259917-6d53-40ee-9743-f559544657e6"
      },
      "source": [
        "bank_data[\"education\"].value_counts()"
      ],
      "execution_count": 324,
      "outputs": [
        {
          "output_type": "execute_result",
          "data": {
            "text/plain": [
              "university.degree      13899\n",
              "high.school             9515\n",
              "basic.9y                6045\n",
              "professional.course     5243\n",
              "basic.4y                4176\n",
              "basic.6y                2292\n",
              "illiterate                18\n",
              "Name: education, dtype: int64"
            ]
          },
          "metadata": {},
          "execution_count": 324
        }
      ]
    },
    {
      "cell_type": "markdown",
      "metadata": {
        "id": "H6qsrt5-W4M4"
      },
      "source": [
        "# default Column"
      ]
    },
    {
      "cell_type": "code",
      "metadata": {
        "colab": {
          "base_uri": "https://localhost:8080/"
        },
        "id": "tmQl4nX5W6t6",
        "outputId": "e0325a73-2acb-491a-b7f0-fb83b55ec1e2"
      },
      "source": [
        "bank_data['default'].unique()"
      ],
      "execution_count": 325,
      "outputs": [
        {
          "output_type": "execute_result",
          "data": {
            "text/plain": [
              "array(['unknown', 'no', 'yes'], dtype=object)"
            ]
          },
          "metadata": {},
          "execution_count": 325
        }
      ]
    },
    {
      "cell_type": "code",
      "metadata": {
        "colab": {
          "base_uri": "https://localhost:8080/"
        },
        "id": "VYcS3yh6XFco",
        "outputId": "a407a392-5f64-4f47-cdcb-8e19629729bf"
      },
      "source": [
        "bank_data[\"default\"].value_counts()"
      ],
      "execution_count": 326,
      "outputs": [
        {
          "output_type": "execute_result",
          "data": {
            "text/plain": [
              "no         32588\n",
              "unknown     8597\n",
              "yes            3\n",
              "Name: default, dtype: int64"
            ]
          },
          "metadata": {},
          "execution_count": 326
        }
      ]
    },
    {
      "cell_type": "code",
      "metadata": {
        "id": "p7eqOMDcXBvz"
      },
      "source": [
        "bank_data['default'].replace({'unknown':'no'},inplace=True)"
      ],
      "execution_count": 327,
      "outputs": []
    },
    {
      "cell_type": "code",
      "metadata": {
        "colab": {
          "base_uri": "https://localhost:8080/"
        },
        "id": "tL_RA_24XTwM",
        "outputId": "32ce1ade-94a0-4e2f-9409-9d35b0133c37"
      },
      "source": [
        "bank_data['default'].unique()"
      ],
      "execution_count": 328,
      "outputs": [
        {
          "output_type": "execute_result",
          "data": {
            "text/plain": [
              "array(['no', 'yes'], dtype=object)"
            ]
          },
          "metadata": {},
          "execution_count": 328
        }
      ]
    },
    {
      "cell_type": "code",
      "metadata": {
        "colab": {
          "base_uri": "https://localhost:8080/"
        },
        "id": "W_SrU-kXXa_S",
        "outputId": "3c60953f-29d1-47df-9a62-4b7ba9aeb776"
      },
      "source": [
        "bank_data[\"default\"].value_counts()"
      ],
      "execution_count": 329,
      "outputs": [
        {
          "output_type": "execute_result",
          "data": {
            "text/plain": [
              "no     41185\n",
              "yes        3\n",
              "Name: default, dtype: int64"
            ]
          },
          "metadata": {},
          "execution_count": 329
        }
      ]
    },
    {
      "cell_type": "markdown",
      "metadata": {
        "id": "SikAFQJSXmMk"
      },
      "source": [
        "# housing Column"
      ]
    },
    {
      "cell_type": "code",
      "metadata": {
        "colab": {
          "base_uri": "https://localhost:8080/"
        },
        "id": "EZIdtgA8Xq_6",
        "outputId": "fdc7329a-6122-4d7d-c199-1a8cfeda0b72"
      },
      "source": [
        "bank_data['housing'].unique()"
      ],
      "execution_count": 330,
      "outputs": [
        {
          "output_type": "execute_result",
          "data": {
            "text/plain": [
              "array(['yes', 'no', 'unknown'], dtype=object)"
            ]
          },
          "metadata": {},
          "execution_count": 330
        }
      ]
    },
    {
      "cell_type": "code",
      "metadata": {
        "colab": {
          "base_uri": "https://localhost:8080/"
        },
        "id": "5NfWJLXfXxPz",
        "outputId": "12045507-1b34-43c3-ab77-b54bfb5cbe39"
      },
      "source": [
        "bank_data[\"housing\"].value_counts()"
      ],
      "execution_count": 331,
      "outputs": [
        {
          "output_type": "execute_result",
          "data": {
            "text/plain": [
              "yes        21576\n",
              "no         18622\n",
              "unknown      990\n",
              "Name: housing, dtype: int64"
            ]
          },
          "metadata": {},
          "execution_count": 331
        }
      ]
    },
    {
      "cell_type": "code",
      "metadata": {
        "id": "_kdgqfZJX4-o"
      },
      "source": [
        "bank_data['housing'].replace({'unknown':'yes'},inplace=True)"
      ],
      "execution_count": 332,
      "outputs": []
    },
    {
      "cell_type": "code",
      "metadata": {
        "colab": {
          "base_uri": "https://localhost:8080/"
        },
        "id": "sEtvb062YA2E",
        "outputId": "5d73fc17-62de-4506-bb17-b7bc5739553b"
      },
      "source": [
        "bank_data[\"housing\"].value_counts()"
      ],
      "execution_count": 333,
      "outputs": [
        {
          "output_type": "execute_result",
          "data": {
            "text/plain": [
              "yes    22566\n",
              "no     18622\n",
              "Name: housing, dtype: int64"
            ]
          },
          "metadata": {},
          "execution_count": 333
        }
      ]
    },
    {
      "cell_type": "markdown",
      "metadata": {
        "id": "7glGJlhcYNlG"
      },
      "source": [
        "# loan Column"
      ]
    },
    {
      "cell_type": "code",
      "metadata": {
        "colab": {
          "base_uri": "https://localhost:8080/"
        },
        "id": "aWpNDuEJYNKR",
        "outputId": "698926f8-1660-41ca-9485-b83e9323ed53"
      },
      "source": [
        "bank_data['loan'].unique()"
      ],
      "execution_count": 334,
      "outputs": [
        {
          "output_type": "execute_result",
          "data": {
            "text/plain": [
              "array(['no', 'yes', 'unknown'], dtype=object)"
            ]
          },
          "metadata": {},
          "execution_count": 334
        }
      ]
    },
    {
      "cell_type": "code",
      "metadata": {
        "colab": {
          "base_uri": "https://localhost:8080/"
        },
        "id": "2Woofuw0YZJr",
        "outputId": "686963dc-e016-412f-ea47-d71e20a58ca2"
      },
      "source": [
        "bank_data[\"loan\"].value_counts()"
      ],
      "execution_count": 335,
      "outputs": [
        {
          "output_type": "execute_result",
          "data": {
            "text/plain": [
              "no         33950\n",
              "yes         6248\n",
              "unknown      990\n",
              "Name: loan, dtype: int64"
            ]
          },
          "metadata": {},
          "execution_count": 335
        }
      ]
    },
    {
      "cell_type": "code",
      "metadata": {
        "id": "aYdLeTaBYcxO"
      },
      "source": [
        "bank_data['loan'].replace({'unknown':'no'},inplace=True)"
      ],
      "execution_count": 336,
      "outputs": []
    },
    {
      "cell_type": "code",
      "metadata": {
        "colab": {
          "base_uri": "https://localhost:8080/"
        },
        "id": "hhznjSx4YjkM",
        "outputId": "b053ddce-db8d-4d98-9cd8-d822bbb40a80"
      },
      "source": [
        "bank_data[\"loan\"].value_counts()"
      ],
      "execution_count": 337,
      "outputs": [
        {
          "output_type": "execute_result",
          "data": {
            "text/plain": [
              "no     34940\n",
              "yes     6248\n",
              "Name: loan, dtype: int64"
            ]
          },
          "metadata": {},
          "execution_count": 337
        }
      ]
    },
    {
      "cell_type": "markdown",
      "metadata": {
        "id": "vrzD92iEYntN"
      },
      "source": [
        "# \tcontact column"
      ]
    },
    {
      "cell_type": "code",
      "metadata": {
        "colab": {
          "base_uri": "https://localhost:8080/"
        },
        "id": "ljgoSR9fYtno",
        "outputId": "56d784a7-1075-41b6-96d8-236419aa636f"
      },
      "source": [
        "bank_data['contact'].unique()"
      ],
      "execution_count": 338,
      "outputs": [
        {
          "output_type": "execute_result",
          "data": {
            "text/plain": [
              "array(['cellular', 'telephone'], dtype=object)"
            ]
          },
          "metadata": {},
          "execution_count": 338
        }
      ]
    },
    {
      "cell_type": "code",
      "metadata": {
        "colab": {
          "base_uri": "https://localhost:8080/"
        },
        "id": "8aQcwjDnYzbr",
        "outputId": "99c0680c-e4fa-4bab-a382-05a9ee084766"
      },
      "source": [
        "bank_data[\"contact\"].value_counts()"
      ],
      "execution_count": 339,
      "outputs": [
        {
          "output_type": "execute_result",
          "data": {
            "text/plain": [
              "cellular     26144\n",
              "telephone    15044\n",
              "Name: contact, dtype: int64"
            ]
          },
          "metadata": {},
          "execution_count": 339
        }
      ]
    },
    {
      "cell_type": "markdown",
      "metadata": {
        "id": "ebqnpi3iY-TE"
      },
      "source": [
        "# poutcome Column\n",
        "outcome of the previous marketing campaign"
      ]
    },
    {
      "cell_type": "code",
      "metadata": {
        "colab": {
          "base_uri": "https://localhost:8080/"
        },
        "id": "1wPbAXM0ZAdl",
        "outputId": "5a39f06d-3751-4d44-9844-e4b2ec937fda"
      },
      "source": [
        "bank_data['poutcome'].unique()"
      ],
      "execution_count": 340,
      "outputs": [
        {
          "output_type": "execute_result",
          "data": {
            "text/plain": [
              "array(['nonexistent', 'success', 'failure'], dtype=object)"
            ]
          },
          "metadata": {},
          "execution_count": 340
        }
      ]
    },
    {
      "cell_type": "code",
      "metadata": {
        "colab": {
          "base_uri": "https://localhost:8080/"
        },
        "id": "gQMd297vZzBj",
        "outputId": "b092633a-3a0f-495f-e34f-e8b9884839bd"
      },
      "source": [
        "bank_data[\"poutcome\"].value_counts()"
      ],
      "execution_count": 341,
      "outputs": [
        {
          "output_type": "execute_result",
          "data": {
            "text/plain": [
              "nonexistent    35563\n",
              "failure         4252\n",
              "success         1373\n",
              "Name: poutcome, dtype: int64"
            ]
          },
          "metadata": {},
          "execution_count": 341
        }
      ]
    },
    {
      "cell_type": "markdown",
      "metadata": {
        "id": "9rxyU9SGZ9rm"
      },
      "source": [
        " # Section III : Exploring data with Group by"
      ]
    },
    {
      "cell_type": "markdown",
      "metadata": {
        "id": "64qsS2I3auYp"
      },
      "source": [
        "**For Y Column**"
      ]
    },
    {
      "cell_type": "code",
      "metadata": {
        "colab": {
          "base_uri": "https://localhost:8080/",
          "height": 143
        },
        "id": "mAj05-2jaBHZ",
        "outputId": "2a2ba969-4261-44bb-da24-2e203c0a02d9"
      },
      "source": [
        "subscribe_data=bank_data.groupby('y').mean()\n",
        "subscribe_data.head()"
      ],
      "execution_count": 342,
      "outputs": [
        {
          "output_type": "execute_result",
          "data": {
            "text/html": [
              "<div>\n",
              "<style scoped>\n",
              "    .dataframe tbody tr th:only-of-type {\n",
              "        vertical-align: middle;\n",
              "    }\n",
              "\n",
              "    .dataframe tbody tr th {\n",
              "        vertical-align: top;\n",
              "    }\n",
              "\n",
              "    .dataframe thead th {\n",
              "        text-align: right;\n",
              "    }\n",
              "</style>\n",
              "<table border=\"1\" class=\"dataframe\">\n",
              "  <thead>\n",
              "    <tr style=\"text-align: right;\">\n",
              "      <th></th>\n",
              "      <th>age</th>\n",
              "      <th>duration</th>\n",
              "      <th>campaign</th>\n",
              "      <th>pdays</th>\n",
              "      <th>previous</th>\n",
              "      <th>emp_var_rate</th>\n",
              "      <th>cons_price_idx</th>\n",
              "      <th>cons_conf_idx</th>\n",
              "      <th>euribor3m</th>\n",
              "      <th>nr_employed</th>\n",
              "    </tr>\n",
              "    <tr>\n",
              "      <th>y</th>\n",
              "      <th></th>\n",
              "      <th></th>\n",
              "      <th></th>\n",
              "      <th></th>\n",
              "      <th></th>\n",
              "      <th></th>\n",
              "      <th></th>\n",
              "      <th></th>\n",
              "      <th></th>\n",
              "      <th></th>\n",
              "    </tr>\n",
              "  </thead>\n",
              "  <tbody>\n",
              "    <tr>\n",
              "      <th>0</th>\n",
              "      <td>39.910802</td>\n",
              "      <td>220.844807</td>\n",
              "      <td>2.633085</td>\n",
              "      <td>985.345135</td>\n",
              "      <td>0.132374</td>\n",
              "      <td>0.248875</td>\n",
              "      <td>93.603757</td>\n",
              "      <td>-40.593097</td>\n",
              "      <td>3.811491</td>\n",
              "      <td>5176.166600</td>\n",
              "    </tr>\n",
              "    <tr>\n",
              "      <th>1</th>\n",
              "      <td>40.913147</td>\n",
              "      <td>553.191164</td>\n",
              "      <td>2.051724</td>\n",
              "      <td>792.035560</td>\n",
              "      <td>0.492672</td>\n",
              "      <td>-1.233448</td>\n",
              "      <td>93.354386</td>\n",
              "      <td>-39.789784</td>\n",
              "      <td>2.123135</td>\n",
              "      <td>5095.115991</td>\n",
              "    </tr>\n",
              "  </tbody>\n",
              "</table>\n",
              "</div>"
            ],
            "text/plain": [
              "         age    duration  campaign  ...  cons_conf_idx  euribor3m  nr_employed\n",
              "y                                   ...                                       \n",
              "0  39.910802  220.844807  2.633085  ...     -40.593097   3.811491  5176.166600\n",
              "1  40.913147  553.191164  2.051724  ...     -39.789784   2.123135  5095.115991\n",
              "\n",
              "[2 rows x 10 columns]"
            ]
          },
          "metadata": {},
          "execution_count": 342
        }
      ]
    },
    {
      "cell_type": "markdown",
      "metadata": {
        "id": "2Rhx8f1_a016"
      },
      "source": [
        "**For Job Column**"
      ]
    },
    {
      "cell_type": "code",
      "metadata": {
        "colab": {
          "base_uri": "https://localhost:8080/",
          "height": 256
        },
        "id": "rWdYjr1BasQD",
        "outputId": "3a780132-0651-4755-849b-3b2f1a138406"
      },
      "source": [
        "subscribe_data=bank_data.groupby('job').mean()\n",
        "subscribe_data.head()"
      ],
      "execution_count": 343,
      "outputs": [
        {
          "output_type": "execute_result",
          "data": {
            "text/html": [
              "<div>\n",
              "<style scoped>\n",
              "    .dataframe tbody tr th:only-of-type {\n",
              "        vertical-align: middle;\n",
              "    }\n",
              "\n",
              "    .dataframe tbody tr th {\n",
              "        vertical-align: top;\n",
              "    }\n",
              "\n",
              "    .dataframe thead th {\n",
              "        text-align: right;\n",
              "    }\n",
              "</style>\n",
              "<table border=\"1\" class=\"dataframe\">\n",
              "  <thead>\n",
              "    <tr style=\"text-align: right;\">\n",
              "      <th></th>\n",
              "      <th>age</th>\n",
              "      <th>duration</th>\n",
              "      <th>campaign</th>\n",
              "      <th>pdays</th>\n",
              "      <th>previous</th>\n",
              "      <th>emp_var_rate</th>\n",
              "      <th>cons_price_idx</th>\n",
              "      <th>cons_conf_idx</th>\n",
              "      <th>euribor3m</th>\n",
              "      <th>nr_employed</th>\n",
              "      <th>y</th>\n",
              "    </tr>\n",
              "    <tr>\n",
              "      <th>job</th>\n",
              "      <th></th>\n",
              "      <th></th>\n",
              "      <th></th>\n",
              "      <th></th>\n",
              "      <th></th>\n",
              "      <th></th>\n",
              "      <th></th>\n",
              "      <th></th>\n",
              "      <th></th>\n",
              "      <th></th>\n",
              "      <th></th>\n",
              "    </tr>\n",
              "  </thead>\n",
              "  <tbody>\n",
              "    <tr>\n",
              "      <th>ADMIN</th>\n",
              "      <td>38.413411</td>\n",
              "      <td>253.862909</td>\n",
              "      <td>2.624256</td>\n",
              "      <td>955.514788</td>\n",
              "      <td>0.187965</td>\n",
              "      <td>0.026070</td>\n",
              "      <td>93.539728</td>\n",
              "      <td>-40.201004</td>\n",
              "      <td>3.562512</td>\n",
              "      <td>5164.395638</td>\n",
              "      <td>0.129185</td>\n",
              "    </tr>\n",
              "    <tr>\n",
              "      <th>BLUE-COLLAR</th>\n",
              "      <td>39.555327</td>\n",
              "      <td>264.542360</td>\n",
              "      <td>2.558461</td>\n",
              "      <td>987.105468</td>\n",
              "      <td>0.122542</td>\n",
              "      <td>0.248995</td>\n",
              "      <td>93.656656</td>\n",
              "      <td>-41.375816</td>\n",
              "      <td>3.771996</td>\n",
              "      <td>5175.615150</td>\n",
              "      <td>0.068943</td>\n",
              "    </tr>\n",
              "    <tr>\n",
              "      <th>HOUSEMAID</th>\n",
              "      <td>45.500000</td>\n",
              "      <td>250.454717</td>\n",
              "      <td>2.639623</td>\n",
              "      <td>960.579245</td>\n",
              "      <td>0.137736</td>\n",
              "      <td>0.433396</td>\n",
              "      <td>93.676576</td>\n",
              "      <td>-39.495283</td>\n",
              "      <td>4.009645</td>\n",
              "      <td>5179.529623</td>\n",
              "      <td>0.100000</td>\n",
              "    </tr>\n",
              "    <tr>\n",
              "      <th>MANAGEMENT</th>\n",
              "      <td>42.360123</td>\n",
              "      <td>257.058140</td>\n",
              "      <td>2.476060</td>\n",
              "      <td>962.647059</td>\n",
              "      <td>0.185021</td>\n",
              "      <td>-0.012688</td>\n",
              "      <td>93.522755</td>\n",
              "      <td>-40.489466</td>\n",
              "      <td>3.611316</td>\n",
              "      <td>5166.650513</td>\n",
              "      <td>0.112175</td>\n",
              "    </tr>\n",
              "    <tr>\n",
              "      <th>RETIRED</th>\n",
              "      <td>62.027326</td>\n",
              "      <td>273.712209</td>\n",
              "      <td>2.476744</td>\n",
              "      <td>897.936047</td>\n",
              "      <td>0.327326</td>\n",
              "      <td>-0.698314</td>\n",
              "      <td>93.430786</td>\n",
              "      <td>-38.573081</td>\n",
              "      <td>2.770066</td>\n",
              "      <td>5122.262151</td>\n",
              "      <td>0.252326</td>\n",
              "    </tr>\n",
              "  </tbody>\n",
              "</table>\n",
              "</div>"
            ],
            "text/plain": [
              "                   age    duration  campaign  ...  euribor3m  nr_employed         y\n",
              "job                                           ...                                  \n",
              "ADMIN        38.413411  253.862909  2.624256  ...   3.562512  5164.395638  0.129185\n",
              "BLUE-COLLAR  39.555327  264.542360  2.558461  ...   3.771996  5175.615150  0.068943\n",
              "HOUSEMAID    45.500000  250.454717  2.639623  ...   4.009645  5179.529623  0.100000\n",
              "MANAGEMENT   42.360123  257.058140  2.476060  ...   3.611316  5166.650513  0.112175\n",
              "RETIRED      62.027326  273.712209  2.476744  ...   2.770066  5122.262151  0.252326\n",
              "\n",
              "[5 rows x 11 columns]"
            ]
          },
          "metadata": {},
          "execution_count": 343
        }
      ]
    },
    {
      "cell_type": "markdown",
      "metadata": {
        "id": "XWDbqAKlbIIy"
      },
      "source": [
        "**For Marital Column**"
      ]
    },
    {
      "cell_type": "code",
      "metadata": {
        "colab": {
          "base_uri": "https://localhost:8080/",
          "height": 195
        },
        "id": "NA-aG5gYar3h",
        "outputId": "5cc91642-4607-4784-c64c-db2ea8351fe2"
      },
      "source": [
        "subscribe_data=bank_data.groupby('marital').mean()\n",
        "subscribe_data.head()"
      ],
      "execution_count": 344,
      "outputs": [
        {
          "output_type": "execute_result",
          "data": {
            "text/html": [
              "<div>\n",
              "<style scoped>\n",
              "    .dataframe tbody tr th:only-of-type {\n",
              "        vertical-align: middle;\n",
              "    }\n",
              "\n",
              "    .dataframe tbody tr th {\n",
              "        vertical-align: top;\n",
              "    }\n",
              "\n",
              "    .dataframe thead th {\n",
              "        text-align: right;\n",
              "    }\n",
              "</style>\n",
              "<table border=\"1\" class=\"dataframe\">\n",
              "  <thead>\n",
              "    <tr style=\"text-align: right;\">\n",
              "      <th></th>\n",
              "      <th>age</th>\n",
              "      <th>duration</th>\n",
              "      <th>campaign</th>\n",
              "      <th>pdays</th>\n",
              "      <th>previous</th>\n",
              "      <th>emp_var_rate</th>\n",
              "      <th>cons_price_idx</th>\n",
              "      <th>cons_conf_idx</th>\n",
              "      <th>euribor3m</th>\n",
              "      <th>nr_employed</th>\n",
              "      <th>y</th>\n",
              "    </tr>\n",
              "    <tr>\n",
              "      <th>marital</th>\n",
              "      <th></th>\n",
              "      <th></th>\n",
              "      <th></th>\n",
              "      <th></th>\n",
              "      <th></th>\n",
              "      <th></th>\n",
              "      <th></th>\n",
              "      <th></th>\n",
              "      <th></th>\n",
              "      <th></th>\n",
              "      <th></th>\n",
              "    </tr>\n",
              "  </thead>\n",
              "  <tbody>\n",
              "    <tr>\n",
              "      <th>divorced</th>\n",
              "      <td>44.899176</td>\n",
              "      <td>253.790330</td>\n",
              "      <td>2.613400</td>\n",
              "      <td>968.639853</td>\n",
              "      <td>0.168690</td>\n",
              "      <td>0.163985</td>\n",
              "      <td>93.606563</td>\n",
              "      <td>-40.707069</td>\n",
              "      <td>3.715603</td>\n",
              "      <td>5170.878643</td>\n",
              "      <td>0.103209</td>\n",
              "    </tr>\n",
              "    <tr>\n",
              "      <th>married</th>\n",
              "      <td>42.300384</td>\n",
              "      <td>257.615483</td>\n",
              "      <td>2.574776</td>\n",
              "      <td>967.871001</td>\n",
              "      <td>0.155990</td>\n",
              "      <td>0.182330</td>\n",
              "      <td>93.596964</td>\n",
              "      <td>-40.272417</td>\n",
              "      <td>3.744447</td>\n",
              "      <td>5171.802531</td>\n",
              "      <td>0.101727</td>\n",
              "    </tr>\n",
              "    <tr>\n",
              "      <th>single</th>\n",
              "      <td>33.158195</td>\n",
              "      <td>261.524378</td>\n",
              "      <td>2.533800</td>\n",
              "      <td>952.243603</td>\n",
              "      <td>0.211359</td>\n",
              "      <td>-0.167989</td>\n",
              "      <td>93.517300</td>\n",
              "      <td>-40.918698</td>\n",
              "      <td>3.317447</td>\n",
              "      <td>5155.199265</td>\n",
              "      <td>0.140041</td>\n",
              "    </tr>\n",
              "  </tbody>\n",
              "</table>\n",
              "</div>"
            ],
            "text/plain": [
              "                age    duration  campaign  ...  euribor3m  nr_employed         y\n",
              "marital                                    ...                                  \n",
              "divorced  44.899176  253.790330  2.613400  ...   3.715603  5170.878643  0.103209\n",
              "married   42.300384  257.615483  2.574776  ...   3.744447  5171.802531  0.101727\n",
              "single    33.158195  261.524378  2.533800  ...   3.317447  5155.199265  0.140041\n",
              "\n",
              "[3 rows x 11 columns]"
            ]
          },
          "metadata": {},
          "execution_count": 344
        }
      ]
    },
    {
      "cell_type": "markdown",
      "metadata": {
        "id": "X2hnH7NnbSdN"
      },
      "source": [
        "**For Education Column**"
      ]
    },
    {
      "cell_type": "code",
      "metadata": {
        "colab": {
          "base_uri": "https://localhost:8080/",
          "height": 256
        },
        "id": "yRQgcYOWarbJ",
        "outputId": "082e8647-21a9-433d-c0b1-b77ebea41862"
      },
      "source": [
        "subscribe_data=bank_data.groupby('education').mean()\n",
        "subscribe_data.head()"
      ],
      "execution_count": 345,
      "outputs": [
        {
          "output_type": "execute_result",
          "data": {
            "text/html": [
              "<div>\n",
              "<style scoped>\n",
              "    .dataframe tbody tr th:only-of-type {\n",
              "        vertical-align: middle;\n",
              "    }\n",
              "\n",
              "    .dataframe tbody tr th {\n",
              "        vertical-align: top;\n",
              "    }\n",
              "\n",
              "    .dataframe thead th {\n",
              "        text-align: right;\n",
              "    }\n",
              "</style>\n",
              "<table border=\"1\" class=\"dataframe\">\n",
              "  <thead>\n",
              "    <tr style=\"text-align: right;\">\n",
              "      <th></th>\n",
              "      <th>age</th>\n",
              "      <th>duration</th>\n",
              "      <th>campaign</th>\n",
              "      <th>pdays</th>\n",
              "      <th>previous</th>\n",
              "      <th>emp_var_rate</th>\n",
              "      <th>cons_price_idx</th>\n",
              "      <th>cons_conf_idx</th>\n",
              "      <th>euribor3m</th>\n",
              "      <th>nr_employed</th>\n",
              "      <th>y</th>\n",
              "    </tr>\n",
              "    <tr>\n",
              "      <th>education</th>\n",
              "      <th></th>\n",
              "      <th></th>\n",
              "      <th></th>\n",
              "      <th></th>\n",
              "      <th></th>\n",
              "      <th></th>\n",
              "      <th></th>\n",
              "      <th></th>\n",
              "      <th></th>\n",
              "      <th></th>\n",
              "      <th></th>\n",
              "    </tr>\n",
              "  </thead>\n",
              "  <tbody>\n",
              "    <tr>\n",
              "      <th>basic.4y</th>\n",
              "      <td>47.596504</td>\n",
              "      <td>264.827826</td>\n",
              "      <td>2.600575</td>\n",
              "      <td>970.015326</td>\n",
              "      <td>0.147031</td>\n",
              "      <td>0.215924</td>\n",
              "      <td>93.658309</td>\n",
              "      <td>-40.239871</td>\n",
              "      <td>3.751768</td>\n",
              "      <td>5170.124880</td>\n",
              "      <td>0.102490</td>\n",
              "    </tr>\n",
              "    <tr>\n",
              "      <th>basic.6y</th>\n",
              "      <td>40.447644</td>\n",
              "      <td>264.414485</td>\n",
              "      <td>2.556283</td>\n",
              "      <td>980.368237</td>\n",
              "      <td>0.129145</td>\n",
              "      <td>0.231152</td>\n",
              "      <td>93.650062</td>\n",
              "      <td>-41.127880</td>\n",
              "      <td>3.772942</td>\n",
              "      <td>5174.718063</td>\n",
              "      <td>0.082024</td>\n",
              "    </tr>\n",
              "    <tr>\n",
              "      <th>basic.9y</th>\n",
              "      <td>39.062035</td>\n",
              "      <td>261.291811</td>\n",
              "      <td>2.532341</td>\n",
              "      <td>979.133168</td>\n",
              "      <td>0.141439</td>\n",
              "      <td>0.159239</td>\n",
              "      <td>93.623399</td>\n",
              "      <td>-41.326749</td>\n",
              "      <td>3.697963</td>\n",
              "      <td>5172.294012</td>\n",
              "      <td>0.078246</td>\n",
              "    </tr>\n",
              "    <tr>\n",
              "      <th>high.school</th>\n",
              "      <td>37.998213</td>\n",
              "      <td>260.886810</td>\n",
              "      <td>2.568576</td>\n",
              "      <td>964.358382</td>\n",
              "      <td>0.185917</td>\n",
              "      <td>0.032937</td>\n",
              "      <td>93.584857</td>\n",
              "      <td>-40.940641</td>\n",
              "      <td>3.556157</td>\n",
              "      <td>5164.994735</td>\n",
              "      <td>0.108355</td>\n",
              "    </tr>\n",
              "    <tr>\n",
              "      <th>illiterate</th>\n",
              "      <td>48.500000</td>\n",
              "      <td>276.777778</td>\n",
              "      <td>2.277778</td>\n",
              "      <td>943.833333</td>\n",
              "      <td>0.111111</td>\n",
              "      <td>-0.133333</td>\n",
              "      <td>93.317333</td>\n",
              "      <td>-39.950000</td>\n",
              "      <td>3.516556</td>\n",
              "      <td>5171.777778</td>\n",
              "      <td>0.222222</td>\n",
              "    </tr>\n",
              "  </tbody>\n",
              "</table>\n",
              "</div>"
            ],
            "text/plain": [
              "                   age    duration  campaign  ...  euribor3m  nr_employed         y\n",
              "education                                     ...                                  \n",
              "basic.4y     47.596504  264.827826  2.600575  ...   3.751768  5170.124880  0.102490\n",
              "basic.6y     40.447644  264.414485  2.556283  ...   3.772942  5174.718063  0.082024\n",
              "basic.9y     39.062035  261.291811  2.532341  ...   3.697963  5172.294012  0.078246\n",
              "high.school  37.998213  260.886810  2.568576  ...   3.556157  5164.994735  0.108355\n",
              "illiterate   48.500000  276.777778  2.277778  ...   3.516556  5171.777778  0.222222\n",
              "\n",
              "[5 rows x 11 columns]"
            ]
          },
          "metadata": {},
          "execution_count": 345
        }
      ]
    },
    {
      "cell_type": "markdown",
      "metadata": {
        "id": "gRVHy0Oobm2f"
      },
      "source": [
        "# Section III : Exploratory Data Analysis"
      ]
    },
    {
      "cell_type": "markdown",
      "metadata": {
        "id": "_AGhg2MtarKi"
      },
      "source": [
        ""
      ]
    },
    {
      "cell_type": "code",
      "metadata": {
        "colab": {
          "base_uri": "https://localhost:8080/",
          "height": 52
        },
        "id": "DQOFyyHeb811",
        "outputId": "04647d05-5644-4b75-ddb3-084b0b229b05"
      },
      "source": [
        "plt.figure(figsize=(20,20))"
      ],
      "execution_count": 346,
      "outputs": [
        {
          "output_type": "execute_result",
          "data": {
            "text/plain": [
              "<Figure size 1440x1440 with 0 Axes>"
            ]
          },
          "metadata": {},
          "execution_count": 346
        },
        {
          "output_type": "display_data",
          "data": {
            "text/plain": [
              "<Figure size 1440x1440 with 0 Axes>"
            ]
          },
          "metadata": {}
        }
      ]
    },
    {
      "cell_type": "code",
      "metadata": {
        "colab": {
          "base_uri": "https://localhost:8080/",
          "height": 393
        },
        "id": "k_BWZvF_gDzD",
        "outputId": "a0325fa4-5e9b-4cf9-c9fc-bf129b195f05"
      },
      "source": [
        "title=[]\n",
        "total=[]\n",
        "yes_count=[]\n",
        "no_count=[]\n",
        "\n",
        "for i in bank_data['job'].value_counts().index:\n",
        "  df_job=pd.DataFrame()\n",
        "  df_job=bank_data[bank_data['job']==i]\n",
        "  title.append(i)\n",
        "  total.append(df_job.shape[0])\n",
        "  yes_count.append(df_job[df_job['y']==1].count()['y'])\n",
        "  no_count.append(df_job[df_job['y']==0].count()['y'])\n",
        "df_jobs=pd.DataFrame()\n",
        "\n",
        "df_jobs['Job Title']=title\n",
        "df_jobs['Total']=total\n",
        "\n",
        "df_jobs['Yes']=yes_count\n",
        "df_jobs[\"No\"]=no_count\n",
        "df_jobs"
      ],
      "execution_count": 347,
      "outputs": [
        {
          "output_type": "execute_result",
          "data": {
            "text/html": [
              "<div>\n",
              "<style scoped>\n",
              "    .dataframe tbody tr th:only-of-type {\n",
              "        vertical-align: middle;\n",
              "    }\n",
              "\n",
              "    .dataframe tbody tr th {\n",
              "        vertical-align: top;\n",
              "    }\n",
              "\n",
              "    .dataframe thead th {\n",
              "        text-align: right;\n",
              "    }\n",
              "</style>\n",
              "<table border=\"1\" class=\"dataframe\">\n",
              "  <thead>\n",
              "    <tr style=\"text-align: right;\">\n",
              "      <th></th>\n",
              "      <th>Job Title</th>\n",
              "      <th>Total</th>\n",
              "      <th>Yes</th>\n",
              "      <th>No</th>\n",
              "    </tr>\n",
              "  </thead>\n",
              "  <tbody>\n",
              "    <tr>\n",
              "      <th>0</th>\n",
              "      <td>ADMIN</td>\n",
              "      <td>10752</td>\n",
              "      <td>1389</td>\n",
              "      <td>9363</td>\n",
              "    </tr>\n",
              "    <tr>\n",
              "      <th>1</th>\n",
              "      <td>BLUE-COLLAR</td>\n",
              "      <td>9254</td>\n",
              "      <td>638</td>\n",
              "      <td>8616</td>\n",
              "    </tr>\n",
              "    <tr>\n",
              "      <th>2</th>\n",
              "      <td>TECHNICIAN</td>\n",
              "      <td>6743</td>\n",
              "      <td>730</td>\n",
              "      <td>6013</td>\n",
              "    </tr>\n",
              "    <tr>\n",
              "      <th>3</th>\n",
              "      <td>SERVICES</td>\n",
              "      <td>3969</td>\n",
              "      <td>323</td>\n",
              "      <td>3646</td>\n",
              "    </tr>\n",
              "    <tr>\n",
              "      <th>4</th>\n",
              "      <td>MANAGEMENT</td>\n",
              "      <td>2924</td>\n",
              "      <td>328</td>\n",
              "      <td>2596</td>\n",
              "    </tr>\n",
              "    <tr>\n",
              "      <th>5</th>\n",
              "      <td>RETIRED</td>\n",
              "      <td>1720</td>\n",
              "      <td>434</td>\n",
              "      <td>1286</td>\n",
              "    </tr>\n",
              "    <tr>\n",
              "      <th>6</th>\n",
              "      <td>entrepreneur</td>\n",
              "      <td>1456</td>\n",
              "      <td>124</td>\n",
              "      <td>1332</td>\n",
              "    </tr>\n",
              "    <tr>\n",
              "      <th>7</th>\n",
              "      <td>self-employed</td>\n",
              "      <td>1421</td>\n",
              "      <td>149</td>\n",
              "      <td>1272</td>\n",
              "    </tr>\n",
              "    <tr>\n",
              "      <th>8</th>\n",
              "      <td>HOUSEMAID</td>\n",
              "      <td>1060</td>\n",
              "      <td>106</td>\n",
              "      <td>954</td>\n",
              "    </tr>\n",
              "    <tr>\n",
              "      <th>9</th>\n",
              "      <td>unemployed</td>\n",
              "      <td>1014</td>\n",
              "      <td>144</td>\n",
              "      <td>870</td>\n",
              "    </tr>\n",
              "    <tr>\n",
              "      <th>10</th>\n",
              "      <td>STUDENT</td>\n",
              "      <td>875</td>\n",
              "      <td>275</td>\n",
              "      <td>600</td>\n",
              "    </tr>\n",
              "  </tbody>\n",
              "</table>\n",
              "</div>"
            ],
            "text/plain": [
              "        Job Title  Total   Yes    No\n",
              "0           ADMIN  10752  1389  9363\n",
              "1     BLUE-COLLAR   9254   638  8616\n",
              "2      TECHNICIAN   6743   730  6013\n",
              "3        SERVICES   3969   323  3646\n",
              "4      MANAGEMENT   2924   328  2596\n",
              "5         RETIRED   1720   434  1286\n",
              "6    entrepreneur   1456   124  1332\n",
              "7   self-employed   1421   149  1272\n",
              "8       HOUSEMAID   1060   106   954\n",
              "9      unemployed   1014   144   870\n",
              "10        STUDENT    875   275   600"
            ]
          },
          "metadata": {},
          "execution_count": 347
        }
      ]
    },
    {
      "cell_type": "code",
      "metadata": {
        "colab": {
          "base_uri": "https://localhost:8080/"
        },
        "id": "9AFiV7ofB3By",
        "outputId": "385dea84-295d-4333-9cdd-ac3857f4efc4"
      },
      "source": [
        "group= bank_data.groupby(['marital','y'])['y'].count\n",
        "print(group)"
      ],
      "execution_count": 348,
      "outputs": [
        {
          "output_type": "stream",
          "name": "stdout",
          "text": [
            "<bound method SeriesGroupBy.count of <pandas.core.groupby.generic.SeriesGroupBy object at 0x7f54e3df6a90>>\n"
          ]
        }
      ]
    },
    {
      "cell_type": "code",
      "metadata": {
        "id": "5ovxlm7rCbu4"
      },
      "source": [
        "#for cat in "
      ],
      "execution_count": 349,
      "outputs": []
    },
    {
      "cell_type": "code",
      "metadata": {
        "colab": {
          "base_uri": "https://localhost:8080/",
          "height": 343
        },
        "id": "XVR6U3bujivE",
        "outputId": "a724f961-2782-4a8a-fd72-587ebbedfeb3"
      },
      "source": [
        "labels=df_jobs['Job Title']\n",
        "positions=np.arange(0,11,1)\n",
        "df_jobs.plot(kind='bar',figsize=(20,5))\n",
        "plt.xticks(positions,labels)\n",
        "plt.show()"
      ],
      "execution_count": 350,
      "outputs": [
        {
          "output_type": "display_data",
          "data": {
            "image/png": "[encoded data removed]",
            "text/plain": [
              "<Figure size 1440x360 with 1 Axes>"
            ]
          },
          "metadata": {
            "needs_background": "light"
          }
        }
      ]
    },
    {
      "cell_type": "code",
      "metadata": {
        "id": "xK5nZaFY3Yhy"
      },
      "source": [
        ""
      ],
      "execution_count": 350,
      "outputs": []
    },
    {
      "cell_type": "code",
      "metadata": {
        "colab": {
          "base_uri": "https://localhost:8080/",
          "height": 393
        },
        "id": "ri6PFaoNv5uB",
        "outputId": "9318cbad-2c49-47d5-bedc-9ff3e27d34b2"
      },
      "source": [
        "df_jobs_final=pd.DataFrame()\n",
        "df_jobs_final['Job Title']=title\n",
        "df_jobs_final['Percentage_yes']=(df_jobs['Yes']/df_jobs['Total'])*100\n",
        "df_jobs_final['Percentage_no']=(df_jobs['No']/df_jobs['Total'])*100\n",
        "df_jobs_final=df_jobs_final.sort_values('Percentage_yes',ascending=False)\n",
        "df_jobs_final"
      ],
      "execution_count": 351,
      "outputs": [
        {
          "output_type": "execute_result",
          "data": {
            "text/html": [
              "<div>\n",
              "<style scoped>\n",
              "    .dataframe tbody tr th:only-of-type {\n",
              "        vertical-align: middle;\n",
              "    }\n",
              "\n",
              "    .dataframe tbody tr th {\n",
              "        vertical-align: top;\n",
              "    }\n",
              "\n",
              "    .dataframe thead th {\n",
              "        text-align: right;\n",
              "    }\n",
              "</style>\n",
              "<table border=\"1\" class=\"dataframe\">\n",
              "  <thead>\n",
              "    <tr style=\"text-align: right;\">\n",
              "      <th></th>\n",
              "      <th>Job Title</th>\n",
              "      <th>Percentage_yes</th>\n",
              "      <th>Percentage_no</th>\n",
              "    </tr>\n",
              "  </thead>\n",
              "  <tbody>\n",
              "    <tr>\n",
              "      <th>10</th>\n",
              "      <td>STUDENT</td>\n",
              "      <td>31.428571</td>\n",
              "      <td>68.571429</td>\n",
              "    </tr>\n",
              "    <tr>\n",
              "      <th>5</th>\n",
              "      <td>RETIRED</td>\n",
              "      <td>25.232558</td>\n",
              "      <td>74.767442</td>\n",
              "    </tr>\n",
              "    <tr>\n",
              "      <th>9</th>\n",
              "      <td>unemployed</td>\n",
              "      <td>14.201183</td>\n",
              "      <td>85.798817</td>\n",
              "    </tr>\n",
              "    <tr>\n",
              "      <th>0</th>\n",
              "      <td>ADMIN</td>\n",
              "      <td>12.918527</td>\n",
              "      <td>87.081473</td>\n",
              "    </tr>\n",
              "    <tr>\n",
              "      <th>4</th>\n",
              "      <td>MANAGEMENT</td>\n",
              "      <td>11.217510</td>\n",
              "      <td>88.782490</td>\n",
              "    </tr>\n",
              "    <tr>\n",
              "      <th>2</th>\n",
              "      <td>TECHNICIAN</td>\n",
              "      <td>10.826042</td>\n",
              "      <td>89.173958</td>\n",
              "    </tr>\n",
              "    <tr>\n",
              "      <th>7</th>\n",
              "      <td>self-employed</td>\n",
              "      <td>10.485574</td>\n",
              "      <td>89.514426</td>\n",
              "    </tr>\n",
              "    <tr>\n",
              "      <th>8</th>\n",
              "      <td>HOUSEMAID</td>\n",
              "      <td>10.000000</td>\n",
              "      <td>90.000000</td>\n",
              "    </tr>\n",
              "    <tr>\n",
              "      <th>6</th>\n",
              "      <td>entrepreneur</td>\n",
              "      <td>8.516484</td>\n",
              "      <td>91.483516</td>\n",
              "    </tr>\n",
              "    <tr>\n",
              "      <th>3</th>\n",
              "      <td>SERVICES</td>\n",
              "      <td>8.138070</td>\n",
              "      <td>91.861930</td>\n",
              "    </tr>\n",
              "    <tr>\n",
              "      <th>1</th>\n",
              "      <td>BLUE-COLLAR</td>\n",
              "      <td>6.894316</td>\n",
              "      <td>93.105684</td>\n",
              "    </tr>\n",
              "  </tbody>\n",
              "</table>\n",
              "</div>"
            ],
            "text/plain": [
              "        Job Title  Percentage_yes  Percentage_no\n",
              "10        STUDENT       31.428571      68.571429\n",
              "5         RETIRED       25.232558      74.767442\n",
              "9      unemployed       14.201183      85.798817\n",
              "0           ADMIN       12.918527      87.081473\n",
              "4      MANAGEMENT       11.217510      88.782490\n",
              "2      TECHNICIAN       10.826042      89.173958\n",
              "7   self-employed       10.485574      89.514426\n",
              "8       HOUSEMAID       10.000000      90.000000\n",
              "6    entrepreneur        8.516484      91.483516\n",
              "3        SERVICES        8.138070      91.861930\n",
              "1     BLUE-COLLAR        6.894316      93.105684"
            ]
          },
          "metadata": {},
          "execution_count": 351
        }
      ]
    },
    {
      "cell_type": "code",
      "metadata": {
        "colab": {
          "base_uri": "https://localhost:8080/",
          "height": 348
        },
        "id": "7mLGxJePv-PS",
        "outputId": "fbda0a10-a6fa-4345-c30b-7d659e8f39f3"
      },
      "source": [
        "labels=df_jobs_final['Job Title'].tolist()\n",
        "position=df_jobs_final['Job Title'].index\n",
        "df_jobs_final.plot(kind='bar',figsize=(20,5))\n",
        "plt.xticks(positions, labels)\n",
        "plt.show()"
      ],
      "execution_count": 352,
      "outputs": [
        {
          "output_type": "display_data",
          "data": {
            "image/png": "[encoded data removed]",
            "text/plain": [
              "<Figure size 1440x360 with 1 Axes>"
            ]
          },
          "metadata": {
            "needs_background": "light"
          }
        }
      ]
    },
    {
      "cell_type": "markdown",
      "metadata": {
        "id": "2BEZi3F_wUGb"
      },
      "source": [
        "1) From Above graph it is clear that students and Retired people are the clients who have high percentage of of subscription rate.\n",
        "2) People with job description as 'Blue-collar' are the most contacted people\n",
        "3)Students are the less contacted people"
      ]
    },
    {
      "cell_type": "markdown",
      "metadata": {
        "id": "dfmbzZQPwn3F"
      },
      "source": [
        "**Marital State**"
      ]
    },
    {
      "cell_type": "code",
      "metadata": {
        "colab": {
          "base_uri": "https://localhost:8080/",
          "height": 143
        },
        "id": "gA-QiDsUtbsg",
        "outputId": "5e7058d6-21cc-48fd-9fc5-c51a6c48681c"
      },
      "source": [
        "df_married=bank_data[bank_data['marital']=='married']\n",
        "df_single=bank_data[bank_data['marital']=='single']\n",
        "df_divorced=bank_data[bank_data['marital']=='divorced']\n",
        "married=bank_data['marital'].value_counts().to_frame()\n",
        "married"
      ],
      "execution_count": 353,
      "outputs": [
        {
          "output_type": "execute_result",
          "data": {
            "text/html": [
              "<div>\n",
              "<style scoped>\n",
              "    .dataframe tbody tr th:only-of-type {\n",
              "        vertical-align: middle;\n",
              "    }\n",
              "\n",
              "    .dataframe tbody tr th {\n",
              "        vertical-align: top;\n",
              "    }\n",
              "\n",
              "    .dataframe thead th {\n",
              "        text-align: right;\n",
              "    }\n",
              "</style>\n",
              "<table border=\"1\" class=\"dataframe\">\n",
              "  <thead>\n",
              "    <tr style=\"text-align: right;\">\n",
              "      <th></th>\n",
              "      <th>marital</th>\n",
              "    </tr>\n",
              "  </thead>\n",
              "  <tbody>\n",
              "    <tr>\n",
              "      <th>married</th>\n",
              "      <td>25008</td>\n",
              "    </tr>\n",
              "    <tr>\n",
              "      <th>single</th>\n",
              "      <td>11568</td>\n",
              "    </tr>\n",
              "    <tr>\n",
              "      <th>divorced</th>\n",
              "      <td>4612</td>\n",
              "    </tr>\n",
              "  </tbody>\n",
              "</table>\n",
              "</div>"
            ],
            "text/plain": [
              "          marital\n",
              "married     25008\n",
              "single      11568\n",
              "divorced     4612"
            ]
          },
          "metadata": {},
          "execution_count": 353
        }
      ]
    },
    {
      "cell_type": "code",
      "metadata": {
        "id": "2dM4k1XbtUXF"
      },
      "source": [
        "yes_count=[]\n",
        "yes_count.append(df_married[df_married['y']==1].count()[1])\n",
        "yes_count.append(df_single[df_single['y']==1].count()[1])\n",
        "yes_count.append(df_divorced[df_divorced['y']==1].count()[1])\n",
        "married['Subscription count']=yes_count"
      ],
      "execution_count": 354,
      "outputs": []
    },
    {
      "cell_type": "code",
      "metadata": {
        "colab": {
          "base_uri": "https://localhost:8080/",
          "height": 315
        },
        "id": "KAD0uvcQt6Hu",
        "outputId": "01abc360-e87e-4608-e9ff-ecb77fb63247"
      },
      "source": [
        "married.plot(kind='bar')"
      ],
      "execution_count": 355,
      "outputs": [
        {
          "output_type": "execute_result",
          "data": {
            "text/plain": [
              "<matplotlib.axes._subplots.AxesSubplot at 0x7f54e3cd2110>"
            ]
          },
          "metadata": {},
          "execution_count": 355
        },
        {
          "output_type": "display_data",
          "data": {
            "image/png": "[encoded data removed]",
            "text/plain": [
              "<Figure size 432x288 with 1 Axes>"
            ]
          },
          "metadata": {
            "needs_background": "light"
          }
        }
      ]
    },
    {
      "cell_type": "code",
      "metadata": {
        "id": "KHS7LJCf5xGe"
      },
      "source": [
        ""
      ],
      "execution_count": 355,
      "outputs": []
    },
    {
      "cell_type": "code",
      "metadata": {
        "colab": {
          "base_uri": "https://localhost:8080/",
          "height": 143
        },
        "id": "E7MAI4E1w3IH",
        "outputId": "326b2f01-ef0b-4712-8edb-260c9a7589d5"
      },
      "source": [
        "married['Percentage']=(married['Subscription count']/married['marital'])*100\n",
        "married.sort_values(by='Percentage',ascending=False)"
      ],
      "execution_count": 356,
      "outputs": [
        {
          "output_type": "execute_result",
          "data": {
            "text/html": [
              "<div>\n",
              "<style scoped>\n",
              "    .dataframe tbody tr th:only-of-type {\n",
              "        vertical-align: middle;\n",
              "    }\n",
              "\n",
              "    .dataframe tbody tr th {\n",
              "        vertical-align: top;\n",
              "    }\n",
              "\n",
              "    .dataframe thead th {\n",
              "        text-align: right;\n",
              "    }\n",
              "</style>\n",
              "<table border=\"1\" class=\"dataframe\">\n",
              "  <thead>\n",
              "    <tr style=\"text-align: right;\">\n",
              "      <th></th>\n",
              "      <th>marital</th>\n",
              "      <th>Subscription count</th>\n",
              "      <th>Percentage</th>\n",
              "    </tr>\n",
              "  </thead>\n",
              "  <tbody>\n",
              "    <tr>\n",
              "      <th>single</th>\n",
              "      <td>11568</td>\n",
              "      <td>1620</td>\n",
              "      <td>14.004149</td>\n",
              "    </tr>\n",
              "    <tr>\n",
              "      <th>divorced</th>\n",
              "      <td>4612</td>\n",
              "      <td>476</td>\n",
              "      <td>10.320902</td>\n",
              "    </tr>\n",
              "    <tr>\n",
              "      <th>married</th>\n",
              "      <td>25008</td>\n",
              "      <td>2544</td>\n",
              "      <td>10.172745</td>\n",
              "    </tr>\n",
              "  </tbody>\n",
              "</table>\n",
              "</div>"
            ],
            "text/plain": [
              "          marital  Subscription count  Percentage\n",
              "single      11568                1620   14.004149\n",
              "divorced     4612                 476   10.320902\n",
              "married     25008                2544   10.172745"
            ]
          },
          "metadata": {},
          "execution_count": 356
        }
      ]
    },
    {
      "cell_type": "markdown",
      "metadata": {
        "id": "zRLujJbjw8wG"
      },
      "source": [
        "As per the visualization, 'Marital' and y don't have a strong relationship"
      ]
    },
    {
      "cell_type": "code",
      "metadata": {
        "colab": {
          "base_uri": "https://localhost:8080/",
          "height": 268
        },
        "id": "VuiAZscScX4b",
        "outputId": "40c8fa6d-c346-4b45-af94-dee780a8b817"
      },
      "source": [
        "education=bank_data['education'].value_counts().to_frame()\n",
        "education"
      ],
      "execution_count": 357,
      "outputs": [
        {
          "output_type": "execute_result",
          "data": {
            "text/html": [
              "<div>\n",
              "<style scoped>\n",
              "    .dataframe tbody tr th:only-of-type {\n",
              "        vertical-align: middle;\n",
              "    }\n",
              "\n",
              "    .dataframe tbody tr th {\n",
              "        vertical-align: top;\n",
              "    }\n",
              "\n",
              "    .dataframe thead th {\n",
              "        text-align: right;\n",
              "    }\n",
              "</style>\n",
              "<table border=\"1\" class=\"dataframe\">\n",
              "  <thead>\n",
              "    <tr style=\"text-align: right;\">\n",
              "      <th></th>\n",
              "      <th>education</th>\n",
              "    </tr>\n",
              "  </thead>\n",
              "  <tbody>\n",
              "    <tr>\n",
              "      <th>university.degree</th>\n",
              "      <td>13899</td>\n",
              "    </tr>\n",
              "    <tr>\n",
              "      <th>high.school</th>\n",
              "      <td>9515</td>\n",
              "    </tr>\n",
              "    <tr>\n",
              "      <th>basic.9y</th>\n",
              "      <td>6045</td>\n",
              "    </tr>\n",
              "    <tr>\n",
              "      <th>professional.course</th>\n",
              "      <td>5243</td>\n",
              "    </tr>\n",
              "    <tr>\n",
              "      <th>basic.4y</th>\n",
              "      <td>4176</td>\n",
              "    </tr>\n",
              "    <tr>\n",
              "      <th>basic.6y</th>\n",
              "      <td>2292</td>\n",
              "    </tr>\n",
              "    <tr>\n",
              "      <th>illiterate</th>\n",
              "      <td>18</td>\n",
              "    </tr>\n",
              "  </tbody>\n",
              "</table>\n",
              "</div>"
            ],
            "text/plain": [
              "                     education\n",
              "university.degree        13899\n",
              "high.school               9515\n",
              "basic.9y                  6045\n",
              "professional.course       5243\n",
              "basic.4y                  4176\n",
              "basic.6y                  2292\n",
              "illiterate                  18"
            ]
          },
          "metadata": {},
          "execution_count": 357
        }
      ]
    },
    {
      "cell_type": "code",
      "metadata": {
        "id": "D-bFyfGXxSo1"
      },
      "source": [
        "df_university=bank_data[bank_data['education']=='university.degree']\n",
        "df_high=bank_data[bank_data['education']=='high.school']\n",
        "df_basic9=bank_data[bank_data['education']=='basic.9y']\n",
        "df_prof=bank_data[bank_data['education']=='professional.course']\n",
        "df_basic4=bank_data[bank_data['education']=='basic.4y']\n",
        "df_basic6=bank_data[bank_data['education']=='basic.6y']\n",
        "df_illiterate=bank_data[bank_data['education']=='illiterate']\n"
      ],
      "execution_count": 358,
      "outputs": []
    },
    {
      "cell_type": "code",
      "metadata": {
        "id": "_hMFPI7-yKxy"
      },
      "source": [
        "yes_count=[]\n",
        "yes_count.append(df_university[df_university['y']==1].count()[1])\n",
        "yes_count.append(df_high[df_high['y']==1].count()[1])\n",
        "yes_count.append(df_basic9[df_basic9['y']==1].count()[1])\n",
        "yes_count.append(df_prof[df_prof['y']==1].count()[1])\n",
        "yes_count.append(df_basic4[df_basic4['y']==1].count()[1])\n",
        "\n",
        "yes_count.append(df_basic6[df_basic6['y']==1].count()[1])\n",
        "yes_count.append(df_illiterate[df_illiterate['y']==1].count()[1])\n",
        "\n",
        "education['Subscription count']=yes_count"
      ],
      "execution_count": 359,
      "outputs": []
    },
    {
      "cell_type": "code",
      "metadata": {
        "colab": {
          "base_uri": "https://localhost:8080/"
        },
        "id": "cJA4e4sM0bTO",
        "outputId": "7dd672b0-026b-4744-e05d-fee51dbd4e68"
      },
      "source": [
        "education['Subscription count']"
      ],
      "execution_count": 360,
      "outputs": [
        {
          "output_type": "execute_result",
          "data": {
            "text/plain": [
              "university.degree      1921\n",
              "high.school            1031\n",
              "basic.9y                473\n",
              "professional.course     595\n",
              "basic.4y                428\n",
              "basic.6y                188\n",
              "illiterate                4\n",
              "Name: Subscription count, dtype: int64"
            ]
          },
          "metadata": {},
          "execution_count": 360
        }
      ]
    },
    {
      "cell_type": "code",
      "metadata": {
        "colab": {
          "base_uri": "https://localhost:8080/",
          "height": 370
        },
        "id": "8Ct8gfIBzdER",
        "outputId": "4aaf2a2e-fca8-46fe-b843-b50e2913e067"
      },
      "source": [
        "education.plot(kind='bar')"
      ],
      "execution_count": 361,
      "outputs": [
        {
          "output_type": "execute_result",
          "data": {
            "text/plain": [
              "<matplotlib.axes._subplots.AxesSubplot at 0x7f54e3c7da90>"
            ]
          },
          "metadata": {},
          "execution_count": 361
        },
        {
          "output_type": "display_data",
          "data": {
            "image/png": "[encoded data removed]",
            "text/plain": [
              "<Figure size 432x288 with 1 Axes>"
            ]
          },
          "metadata": {
            "needs_background": "light"
          }
        }
      ]
    },
    {
      "cell_type": "code",
      "metadata": {
        "colab": {
          "base_uri": "https://localhost:8080/",
          "height": 268
        },
        "id": "U7us_8w7zqf9",
        "outputId": "4546f5d8-f18f-4ceb-dd10-2de7330e10ab"
      },
      "source": [
        "education['Percentage']=(education['Subscription count']/education['education'])*100\n",
        "education.sort_values(by='Percentage',ascending=False)"
      ],
      "execution_count": 362,
      "outputs": [
        {
          "output_type": "execute_result",
          "data": {
            "text/html": [
              "<div>\n",
              "<style scoped>\n",
              "    .dataframe tbody tr th:only-of-type {\n",
              "        vertical-align: middle;\n",
              "    }\n",
              "\n",
              "    .dataframe tbody tr th {\n",
              "        vertical-align: top;\n",
              "    }\n",
              "\n",
              "    .dataframe thead th {\n",
              "        text-align: right;\n",
              "    }\n",
              "</style>\n",
              "<table border=\"1\" class=\"dataframe\">\n",
              "  <thead>\n",
              "    <tr style=\"text-align: right;\">\n",
              "      <th></th>\n",
              "      <th>education</th>\n",
              "      <th>Subscription count</th>\n",
              "      <th>Percentage</th>\n",
              "    </tr>\n",
              "  </thead>\n",
              "  <tbody>\n",
              "    <tr>\n",
              "      <th>illiterate</th>\n",
              "      <td>18</td>\n",
              "      <td>4</td>\n",
              "      <td>22.222222</td>\n",
              "    </tr>\n",
              "    <tr>\n",
              "      <th>university.degree</th>\n",
              "      <td>13899</td>\n",
              "      <td>1921</td>\n",
              "      <td>13.821138</td>\n",
              "    </tr>\n",
              "    <tr>\n",
              "      <th>professional.course</th>\n",
              "      <td>5243</td>\n",
              "      <td>595</td>\n",
              "      <td>11.348465</td>\n",
              "    </tr>\n",
              "    <tr>\n",
              "      <th>high.school</th>\n",
              "      <td>9515</td>\n",
              "      <td>1031</td>\n",
              "      <td>10.835523</td>\n",
              "    </tr>\n",
              "    <tr>\n",
              "      <th>basic.4y</th>\n",
              "      <td>4176</td>\n",
              "      <td>428</td>\n",
              "      <td>10.249042</td>\n",
              "    </tr>\n",
              "    <tr>\n",
              "      <th>basic.6y</th>\n",
              "      <td>2292</td>\n",
              "      <td>188</td>\n",
              "      <td>8.202443</td>\n",
              "    </tr>\n",
              "    <tr>\n",
              "      <th>basic.9y</th>\n",
              "      <td>6045</td>\n",
              "      <td>473</td>\n",
              "      <td>7.824648</td>\n",
              "    </tr>\n",
              "  </tbody>\n",
              "</table>\n",
              "</div>"
            ],
            "text/plain": [
              "                     education  Subscription count  Percentage\n",
              "illiterate                  18                   4   22.222222\n",
              "university.degree        13899                1921   13.821138\n",
              "professional.course       5243                 595   11.348465\n",
              "high.school               9515                1031   10.835523\n",
              "basic.4y                  4176                 428   10.249042\n",
              "basic.6y                  2292                 188    8.202443\n",
              "basic.9y                  6045                 473    7.824648"
            ]
          },
          "metadata": {},
          "execution_count": 362
        }
      ]
    },
    {
      "cell_type": "markdown",
      "metadata": {
        "id": "FurhEo_s2mtP"
      },
      "source": [
        "1)Columns 'education' and 'y' don't show strong relstionship"
      ]
    },
    {
      "cell_type": "markdown",
      "metadata": {
        "id": "WPDJ8v_G27iw"
      },
      "source": [
        "# Stack GRaph"
      ]
    },
    {
      "cell_type": "markdown",
      "metadata": {
        "id": "NvwwH46K5XdY"
      },
      "source": [
        "For Job Column"
      ]
    },
    {
      "cell_type": "code",
      "metadata": {
        "colab": {
          "base_uri": "https://localhost:8080/",
          "height": 483
        },
        "id": "jNmA_i6W2mVK",
        "outputId": "7e29b52f-3ca2-40af-ed14-2a605b7df244"
      },
      "source": [
        "plt.figure(figsize=(15,8))\n",
        "plt.bar(labels,df_jobs['No'],color='r',width=0.2)\n",
        "plt.bar(labels,df_jobs['Yes'],bottom=df_jobs['No'],color='b',width=0.2)\n",
        "plt.legend([\"Not Subscribed\",\"Subscribed\"])\n",
        "plt.show()"
      ],
      "execution_count": 363,
      "outputs": [
        {
          "output_type": "display_data",
          "data": {
            "image/png": "[encoded data removed]",
            "text/plain": [
              "<Figure size 1080x576 with 1 Axes>"
            ]
          },
          "metadata": {
            "needs_background": "light"
          }
        }
      ]
    },
    {
      "cell_type": "markdown",
      "metadata": {
        "id": "lRGkRF9V5mka"
      },
      "source": [
        "Creating Dummy"
      ]
    },
    {
      "cell_type": "code",
      "metadata": {
        "id": "AjPEeL0gDpeC"
      },
      "source": [
        "data_new=pd.get_dummies(bank_data,columns=['job', 'marital', 'education', 'default', 'housing', 'loan', 'contact',\n",
        "       'month', 'day_of_week', 'poutcome'])"
      ],
      "execution_count": 364,
      "outputs": []
    },
    {
      "cell_type": "code",
      "metadata": {
        "colab": {
          "base_uri": "https://localhost:8080/"
        },
        "id": "II_dhTxaD8TF",
        "outputId": "582959c8-1155-4412-fb02-ca4a12fe5c19"
      },
      "source": [
        "data_new.dtypes"
      ],
      "execution_count": 365,
      "outputs": [
        {
          "output_type": "execute_result",
          "data": {
            "text/plain": [
              "age                                int64\n",
              "duration                           int64\n",
              "campaign                           int64\n",
              "pdays                            float64\n",
              "previous                           int64\n",
              "emp_var_rate                     float64\n",
              "cons_price_idx                   float64\n",
              "cons_conf_idx                    float64\n",
              "euribor3m                        float64\n",
              "nr_employed                      float64\n",
              "y                                  int64\n",
              "job_ADMIN                          uint8\n",
              "job_BLUE-COLLAR                    uint8\n",
              "job_HOUSEMAID                      uint8\n",
              "job_MANAGEMENT                     uint8\n",
              "job_RETIRED                        uint8\n",
              "job_SERVICES                       uint8\n",
              "job_STUDENT                        uint8\n",
              "job_TECHNICIAN                     uint8\n",
              "job_entrepreneur                   uint8\n",
              "job_self-employed                  uint8\n",
              "job_unemployed                     uint8\n",
              "marital_divorced                   uint8\n",
              "marital_married                    uint8\n",
              "marital_single                     uint8\n",
              "education_basic.4y                 uint8\n",
              "education_basic.6y                 uint8\n",
              "education_basic.9y                 uint8\n",
              "education_high.school              uint8\n",
              "education_illiterate               uint8\n",
              "education_professional.course      uint8\n",
              "education_university.degree        uint8\n",
              "default_no                         uint8\n",
              "default_yes                        uint8\n",
              "housing_no                         uint8\n",
              "housing_yes                        uint8\n",
              "loan_no                            uint8\n",
              "loan_yes                           uint8\n",
              "contact_cellular                   uint8\n",
              "contact_telephone                  uint8\n",
              "month_apr                          uint8\n",
              "month_aug                          uint8\n",
              "month_dec                          uint8\n",
              "month_jul                          uint8\n",
              "month_jun                          uint8\n",
              "month_mar                          uint8\n",
              "month_may                          uint8\n",
              "month_nov                          uint8\n",
              "month_oct                          uint8\n",
              "month_sep                          uint8\n",
              "day_of_week_fri                    uint8\n",
              "day_of_week_mon                    uint8\n",
              "day_of_week_thu                    uint8\n",
              "day_of_week_tue                    uint8\n",
              "day_of_week_wed                    uint8\n",
              "poutcome_failure                   uint8\n",
              "poutcome_nonexistent               uint8\n",
              "poutcome_success                   uint8\n",
              "dtype: object"
            ]
          },
          "metadata": {},
          "execution_count": 365
        }
      ]
    },
    {
      "cell_type": "code",
      "metadata": {
        "colab": {
          "base_uri": "https://localhost:8080/",
          "height": 243
        },
        "id": "0IZ4-CDH8HQW",
        "outputId": "23131155-984b-4fcc-9dec-7bcddd4bf764"
      },
      "source": [
        "data_new.head()"
      ],
      "execution_count": 366,
      "outputs": [
        {
          "output_type": "execute_result",
          "data": {
            "text/html": [
              "<div>\n",
              "<style scoped>\n",
              "    .dataframe tbody tr th:only-of-type {\n",
              "        vertical-align: middle;\n",
              "    }\n",
              "\n",
              "    .dataframe tbody tr th {\n",
              "        vertical-align: top;\n",
              "    }\n",
              "\n",
              "    .dataframe thead th {\n",
              "        text-align: right;\n",
              "    }\n",
              "</style>\n",
              "<table border=\"1\" class=\"dataframe\">\n",
              "  <thead>\n",
              "    <tr style=\"text-align: right;\">\n",
              "      <th></th>\n",
              "      <th>age</th>\n",
              "      <th>duration</th>\n",
              "      <th>campaign</th>\n",
              "      <th>pdays</th>\n",
              "      <th>previous</th>\n",
              "      <th>emp_var_rate</th>\n",
              "      <th>cons_price_idx</th>\n",
              "      <th>cons_conf_idx</th>\n",
              "      <th>euribor3m</th>\n",
              "      <th>nr_employed</th>\n",
              "      <th>y</th>\n",
              "      <th>job_ADMIN</th>\n",
              "      <th>job_BLUE-COLLAR</th>\n",
              "      <th>job_HOUSEMAID</th>\n",
              "      <th>job_MANAGEMENT</th>\n",
              "      <th>job_RETIRED</th>\n",
              "      <th>job_SERVICES</th>\n",
              "      <th>job_STUDENT</th>\n",
              "      <th>job_TECHNICIAN</th>\n",
              "      <th>job_entrepreneur</th>\n",
              "      <th>job_self-employed</th>\n",
              "      <th>job_unemployed</th>\n",
              "      <th>marital_divorced</th>\n",
              "      <th>marital_married</th>\n",
              "      <th>marital_single</th>\n",
              "      <th>education_basic.4y</th>\n",
              "      <th>education_basic.6y</th>\n",
              "      <th>education_basic.9y</th>\n",
              "      <th>education_high.school</th>\n",
              "      <th>education_illiterate</th>\n",
              "      <th>education_professional.course</th>\n",
              "      <th>education_university.degree</th>\n",
              "      <th>default_no</th>\n",
              "      <th>default_yes</th>\n",
              "      <th>housing_no</th>\n",
              "      <th>housing_yes</th>\n",
              "      <th>loan_no</th>\n",
              "      <th>loan_yes</th>\n",
              "      <th>contact_cellular</th>\n",
              "      <th>contact_telephone</th>\n",
              "      <th>month_apr</th>\n",
              "      <th>month_aug</th>\n",
              "      <th>month_dec</th>\n",
              "      <th>month_jul</th>\n",
              "      <th>month_jun</th>\n",
              "      <th>month_mar</th>\n",
              "      <th>month_may</th>\n",
              "      <th>month_nov</th>\n",
              "      <th>month_oct</th>\n",
              "      <th>month_sep</th>\n",
              "      <th>day_of_week_fri</th>\n",
              "      <th>day_of_week_mon</th>\n",
              "      <th>day_of_week_thu</th>\n",
              "      <th>day_of_week_tue</th>\n",
              "      <th>day_of_week_wed</th>\n",
              "      <th>poutcome_failure</th>\n",
              "      <th>poutcome_nonexistent</th>\n",
              "      <th>poutcome_success</th>\n",
              "    </tr>\n",
              "  </thead>\n",
              "  <tbody>\n",
              "    <tr>\n",
              "      <th>0</th>\n",
              "      <td>44</td>\n",
              "      <td>210</td>\n",
              "      <td>1</td>\n",
              "      <td>999.0</td>\n",
              "      <td>0</td>\n",
              "      <td>1.4</td>\n",
              "      <td>93.444</td>\n",
              "      <td>-36.1</td>\n",
              "      <td>4.963</td>\n",
              "      <td>5228.1</td>\n",
              "      <td>0</td>\n",
              "      <td>0</td>\n",
              "      <td>1</td>\n",
              "      <td>0</td>\n",
              "      <td>0</td>\n",
              "      <td>0</td>\n",
              "      <td>0</td>\n",
              "      <td>0</td>\n",
              "      <td>0</td>\n",
              "      <td>0</td>\n",
              "      <td>0</td>\n",
              "      <td>0</td>\n",
              "      <td>0</td>\n",
              "      <td>1</td>\n",
              "      <td>0</td>\n",
              "      <td>1</td>\n",
              "      <td>0</td>\n",
              "      <td>0</td>\n",
              "      <td>0</td>\n",
              "      <td>0</td>\n",
              "      <td>0</td>\n",
              "      <td>0</td>\n",
              "      <td>1</td>\n",
              "      <td>0</td>\n",
              "      <td>0</td>\n",
              "      <td>1</td>\n",
              "      <td>1</td>\n",
              "      <td>0</td>\n",
              "      <td>1</td>\n",
              "      <td>0</td>\n",
              "      <td>0</td>\n",
              "      <td>1</td>\n",
              "      <td>0</td>\n",
              "      <td>0</td>\n",
              "      <td>0</td>\n",
              "      <td>0</td>\n",
              "      <td>0</td>\n",
              "      <td>0</td>\n",
              "      <td>0</td>\n",
              "      <td>0</td>\n",
              "      <td>0</td>\n",
              "      <td>0</td>\n",
              "      <td>1</td>\n",
              "      <td>0</td>\n",
              "      <td>0</td>\n",
              "      <td>0</td>\n",
              "      <td>1</td>\n",
              "      <td>0</td>\n",
              "    </tr>\n",
              "    <tr>\n",
              "      <th>1</th>\n",
              "      <td>53</td>\n",
              "      <td>138</td>\n",
              "      <td>1</td>\n",
              "      <td>999.0</td>\n",
              "      <td>0</td>\n",
              "      <td>-0.1</td>\n",
              "      <td>93.200</td>\n",
              "      <td>-42.0</td>\n",
              "      <td>4.021</td>\n",
              "      <td>5195.8</td>\n",
              "      <td>0</td>\n",
              "      <td>0</td>\n",
              "      <td>0</td>\n",
              "      <td>0</td>\n",
              "      <td>0</td>\n",
              "      <td>0</td>\n",
              "      <td>0</td>\n",
              "      <td>0</td>\n",
              "      <td>1</td>\n",
              "      <td>0</td>\n",
              "      <td>0</td>\n",
              "      <td>0</td>\n",
              "      <td>0</td>\n",
              "      <td>1</td>\n",
              "      <td>0</td>\n",
              "      <td>0</td>\n",
              "      <td>0</td>\n",
              "      <td>0</td>\n",
              "      <td>0</td>\n",
              "      <td>0</td>\n",
              "      <td>0</td>\n",
              "      <td>1</td>\n",
              "      <td>1</td>\n",
              "      <td>0</td>\n",
              "      <td>1</td>\n",
              "      <td>0</td>\n",
              "      <td>1</td>\n",
              "      <td>0</td>\n",
              "      <td>1</td>\n",
              "      <td>0</td>\n",
              "      <td>0</td>\n",
              "      <td>0</td>\n",
              "      <td>0</td>\n",
              "      <td>0</td>\n",
              "      <td>0</td>\n",
              "      <td>0</td>\n",
              "      <td>0</td>\n",
              "      <td>1</td>\n",
              "      <td>0</td>\n",
              "      <td>0</td>\n",
              "      <td>1</td>\n",
              "      <td>0</td>\n",
              "      <td>0</td>\n",
              "      <td>0</td>\n",
              "      <td>0</td>\n",
              "      <td>0</td>\n",
              "      <td>1</td>\n",
              "      <td>0</td>\n",
              "    </tr>\n",
              "    <tr>\n",
              "      <th>2</th>\n",
              "      <td>28</td>\n",
              "      <td>339</td>\n",
              "      <td>3</td>\n",
              "      <td>6.0</td>\n",
              "      <td>2</td>\n",
              "      <td>-1.7</td>\n",
              "      <td>94.055</td>\n",
              "      <td>-39.8</td>\n",
              "      <td>0.729</td>\n",
              "      <td>4991.6</td>\n",
              "      <td>1</td>\n",
              "      <td>0</td>\n",
              "      <td>0</td>\n",
              "      <td>0</td>\n",
              "      <td>1</td>\n",
              "      <td>0</td>\n",
              "      <td>0</td>\n",
              "      <td>0</td>\n",
              "      <td>0</td>\n",
              "      <td>0</td>\n",
              "      <td>0</td>\n",
              "      <td>0</td>\n",
              "      <td>0</td>\n",
              "      <td>0</td>\n",
              "      <td>1</td>\n",
              "      <td>0</td>\n",
              "      <td>0</td>\n",
              "      <td>0</td>\n",
              "      <td>0</td>\n",
              "      <td>0</td>\n",
              "      <td>0</td>\n",
              "      <td>1</td>\n",
              "      <td>1</td>\n",
              "      <td>0</td>\n",
              "      <td>0</td>\n",
              "      <td>1</td>\n",
              "      <td>1</td>\n",
              "      <td>0</td>\n",
              "      <td>1</td>\n",
              "      <td>0</td>\n",
              "      <td>0</td>\n",
              "      <td>0</td>\n",
              "      <td>0</td>\n",
              "      <td>0</td>\n",
              "      <td>1</td>\n",
              "      <td>0</td>\n",
              "      <td>0</td>\n",
              "      <td>0</td>\n",
              "      <td>0</td>\n",
              "      <td>0</td>\n",
              "      <td>0</td>\n",
              "      <td>0</td>\n",
              "      <td>1</td>\n",
              "      <td>0</td>\n",
              "      <td>0</td>\n",
              "      <td>0</td>\n",
              "      <td>0</td>\n",
              "      <td>1</td>\n",
              "    </tr>\n",
              "    <tr>\n",
              "      <th>3</th>\n",
              "      <td>39</td>\n",
              "      <td>185</td>\n",
              "      <td>2</td>\n",
              "      <td>999.0</td>\n",
              "      <td>0</td>\n",
              "      <td>-1.8</td>\n",
              "      <td>93.075</td>\n",
              "      <td>-47.1</td>\n",
              "      <td>1.405</td>\n",
              "      <td>5099.1</td>\n",
              "      <td>0</td>\n",
              "      <td>0</td>\n",
              "      <td>0</td>\n",
              "      <td>0</td>\n",
              "      <td>0</td>\n",
              "      <td>0</td>\n",
              "      <td>1</td>\n",
              "      <td>0</td>\n",
              "      <td>0</td>\n",
              "      <td>0</td>\n",
              "      <td>0</td>\n",
              "      <td>0</td>\n",
              "      <td>0</td>\n",
              "      <td>1</td>\n",
              "      <td>0</td>\n",
              "      <td>0</td>\n",
              "      <td>0</td>\n",
              "      <td>0</td>\n",
              "      <td>1</td>\n",
              "      <td>0</td>\n",
              "      <td>0</td>\n",
              "      <td>0</td>\n",
              "      <td>1</td>\n",
              "      <td>0</td>\n",
              "      <td>1</td>\n",
              "      <td>0</td>\n",
              "      <td>1</td>\n",
              "      <td>0</td>\n",
              "      <td>1</td>\n",
              "      <td>0</td>\n",
              "      <td>1</td>\n",
              "      <td>0</td>\n",
              "      <td>0</td>\n",
              "      <td>0</td>\n",
              "      <td>0</td>\n",
              "      <td>0</td>\n",
              "      <td>0</td>\n",
              "      <td>0</td>\n",
              "      <td>0</td>\n",
              "      <td>0</td>\n",
              "      <td>1</td>\n",
              "      <td>0</td>\n",
              "      <td>0</td>\n",
              "      <td>0</td>\n",
              "      <td>0</td>\n",
              "      <td>0</td>\n",
              "      <td>1</td>\n",
              "      <td>0</td>\n",
              "    </tr>\n",
              "    <tr>\n",
              "      <th>4</th>\n",
              "      <td>55</td>\n",
              "      <td>137</td>\n",
              "      <td>1</td>\n",
              "      <td>3.0</td>\n",
              "      <td>1</td>\n",
              "      <td>-2.9</td>\n",
              "      <td>92.201</td>\n",
              "      <td>-31.4</td>\n",
              "      <td>0.869</td>\n",
              "      <td>5076.2</td>\n",
              "      <td>1</td>\n",
              "      <td>0</td>\n",
              "      <td>0</td>\n",
              "      <td>0</td>\n",
              "      <td>0</td>\n",
              "      <td>1</td>\n",
              "      <td>0</td>\n",
              "      <td>0</td>\n",
              "      <td>0</td>\n",
              "      <td>0</td>\n",
              "      <td>0</td>\n",
              "      <td>0</td>\n",
              "      <td>0</td>\n",
              "      <td>1</td>\n",
              "      <td>0</td>\n",
              "      <td>1</td>\n",
              "      <td>0</td>\n",
              "      <td>0</td>\n",
              "      <td>0</td>\n",
              "      <td>0</td>\n",
              "      <td>0</td>\n",
              "      <td>0</td>\n",
              "      <td>1</td>\n",
              "      <td>0</td>\n",
              "      <td>0</td>\n",
              "      <td>1</td>\n",
              "      <td>1</td>\n",
              "      <td>0</td>\n",
              "      <td>1</td>\n",
              "      <td>0</td>\n",
              "      <td>0</td>\n",
              "      <td>1</td>\n",
              "      <td>0</td>\n",
              "      <td>0</td>\n",
              "      <td>0</td>\n",
              "      <td>0</td>\n",
              "      <td>0</td>\n",
              "      <td>0</td>\n",
              "      <td>0</td>\n",
              "      <td>0</td>\n",
              "      <td>1</td>\n",
              "      <td>0</td>\n",
              "      <td>0</td>\n",
              "      <td>0</td>\n",
              "      <td>0</td>\n",
              "      <td>0</td>\n",
              "      <td>0</td>\n",
              "      <td>1</td>\n",
              "    </tr>\n",
              "  </tbody>\n",
              "</table>\n",
              "</div>"
            ],
            "text/plain": [
              "   age  duration  ...  poutcome_nonexistent  poutcome_success\n",
              "0   44       210  ...                     1                 0\n",
              "1   53       138  ...                     1                 0\n",
              "2   28       339  ...                     0                 1\n",
              "3   39       185  ...                     1                 0\n",
              "4   55       137  ...                     0                 1\n",
              "\n",
              "[5 rows x 58 columns]"
            ]
          },
          "metadata": {},
          "execution_count": 366
        }
      ]
    },
    {
      "cell_type": "markdown",
      "metadata": {
        "id": "ICXWEbPsAtHr"
      },
      "source": [
        "Logistic Regression"
      ]
    },
    {
      "cell_type": "code",
      "metadata": {
        "colab": {
          "base_uri": "https://localhost:8080/",
          "height": 35
        },
        "id": "ytBd2fwKN55z",
        "outputId": "fbfd9c18-c662-4fca-9c41-a7ebaf32ac34"
      },
      "source": [
        "data_new.columns[1]"
      ],
      "execution_count": 367,
      "outputs": [
        {
          "output_type": "execute_result",
          "data": {
            "application/vnd.google.colaboratory.intrinsic+json": {
              "type": "string"
            },
            "text/plain": [
              "'duration'"
            ]
          },
          "metadata": {},
          "execution_count": 367
        }
      ]
    },
    {
      "cell_type": "code",
      "metadata": {
        "colab": {
          "base_uri": "https://localhost:8080/"
        },
        "id": "0JF6sFhgAxnH",
        "outputId": "28676af8-cec5-4509-fd04-ea872c881753"
      },
      "source": [
        "data_new.info()"
      ],
      "execution_count": 368,
      "outputs": [
        {
          "output_type": "stream",
          "name": "stdout",
          "text": [
            "<class 'pandas.core.frame.DataFrame'>\n",
            "RangeIndex: 41188 entries, 0 to 41187\n",
            "Data columns (total 58 columns):\n",
            " #   Column                         Non-Null Count  Dtype  \n",
            "---  ------                         --------------  -----  \n",
            " 0   age                            41188 non-null  int64  \n",
            " 1   duration                       41188 non-null  int64  \n",
            " 2   campaign                       41188 non-null  int64  \n",
            " 3   pdays                          41188 non-null  float64\n",
            " 4   previous                       41188 non-null  int64  \n",
            " 5   emp_var_rate                   41188 non-null  float64\n",
            " 6   cons_price_idx                 41188 non-null  float64\n",
            " 7   cons_conf_idx                  41188 non-null  float64\n",
            " 8   euribor3m                      41188 non-null  float64\n",
            " 9   nr_employed                    41188 non-null  float64\n",
            " 10  y                              41188 non-null  int64  \n",
            " 11  job_ADMIN                      41188 non-null  uint8  \n",
            " 12  job_BLUE-COLLAR                41188 non-null  uint8  \n",
            " 13  job_HOUSEMAID                  41188 non-null  uint8  \n",
            " 14  job_MANAGEMENT                 41188 non-null  uint8  \n",
            " 15  job_RETIRED                    41188 non-null  uint8  \n",
            " 16  job_SERVICES                   41188 non-null  uint8  \n",
            " 17  job_STUDENT                    41188 non-null  uint8  \n",
            " 18  job_TECHNICIAN                 41188 non-null  uint8  \n",
            " 19  job_entrepreneur               41188 non-null  uint8  \n",
            " 20  job_self-employed              41188 non-null  uint8  \n",
            " 21  job_unemployed                 41188 non-null  uint8  \n",
            " 22  marital_divorced               41188 non-null  uint8  \n",
            " 23  marital_married                41188 non-null  uint8  \n",
            " 24  marital_single                 41188 non-null  uint8  \n",
            " 25  education_basic.4y             41188 non-null  uint8  \n",
            " 26  education_basic.6y             41188 non-null  uint8  \n",
            " 27  education_basic.9y             41188 non-null  uint8  \n",
            " 28  education_high.school          41188 non-null  uint8  \n",
            " 29  education_illiterate           41188 non-null  uint8  \n",
            " 30  education_professional.course  41188 non-null  uint8  \n",
            " 31  education_university.degree    41188 non-null  uint8  \n",
            " 32  default_no                     41188 non-null  uint8  \n",
            " 33  default_yes                    41188 non-null  uint8  \n",
            " 34  housing_no                     41188 non-null  uint8  \n",
            " 35  housing_yes                    41188 non-null  uint8  \n",
            " 36  loan_no                        41188 non-null  uint8  \n",
            " 37  loan_yes                       41188 non-null  uint8  \n",
            " 38  contact_cellular               41188 non-null  uint8  \n",
            " 39  contact_telephone              41188 non-null  uint8  \n",
            " 40  month_apr                      41188 non-null  uint8  \n",
            " 41  month_aug                      41188 non-null  uint8  \n",
            " 42  month_dec                      41188 non-null  uint8  \n",
            " 43  month_jul                      41188 non-null  uint8  \n",
            " 44  month_jun                      41188 non-null  uint8  \n",
            " 45  month_mar                      41188 non-null  uint8  \n",
            " 46  month_may                      41188 non-null  uint8  \n",
            " 47  month_nov                      41188 non-null  uint8  \n",
            " 48  month_oct                      41188 non-null  uint8  \n",
            " 49  month_sep                      41188 non-null  uint8  \n",
            " 50  day_of_week_fri                41188 non-null  uint8  \n",
            " 51  day_of_week_mon                41188 non-null  uint8  \n",
            " 52  day_of_week_thu                41188 non-null  uint8  \n",
            " 53  day_of_week_tue                41188 non-null  uint8  \n",
            " 54  day_of_week_wed                41188 non-null  uint8  \n",
            " 55  poutcome_failure               41188 non-null  uint8  \n",
            " 56  poutcome_nonexistent           41188 non-null  uint8  \n",
            " 57  poutcome_success               41188 non-null  uint8  \n",
            "dtypes: float64(6), int64(5), uint8(47)\n",
            "memory usage: 5.3 MB\n"
          ]
        }
      ]
    },
    {
      "cell_type": "code",
      "metadata": {
        "id": "zn4Sg9mhAu4s"
      },
      "source": [
        "X=data_new.drop(['y'],axis=1)\n",
        "y=data_new['y']"
      ],
      "execution_count": 369,
      "outputs": []
    },
    {
      "cell_type": "code",
      "metadata": {
        "id": "EYOzG6J6BN72"
      },
      "source": [
        "from sklearn.model_selection import train_test_split\n",
        "from sklearn.linear_model import LogisticRegression\n",
        "from sklearn.metrics import accuracy_score\n",
        "from sklearn.metrics import plot_confusion_matrix\n",
        "X_train,X_test,y_train,y_test=train_test_split(X,y,test_size=0.3,random_state=1)"
      ],
      "execution_count": 370,
      "outputs": []
    },
    {
      "cell_type": "code",
      "metadata": {
        "colab": {
          "base_uri": "https://localhost:8080/"
        },
        "id": "FQw2y3A4BkOd",
        "outputId": "e315a016-ae0d-4923-da4b-1f07ea219a10"
      },
      "source": [
        "from sklearn.metrics import classification_report\n",
        "model=LogisticRegression()\n",
        "model.fit(X_train,y_train)\n",
        "y_predict=model.predict(X_test)\n",
        "LR=model.score(X_test,y_test)\n",
        "print(\"Accuracy\",LR)\n",
        "print(classification_report(y_test,y_predict))"
      ],
      "execution_count": 371,
      "outputs": [
        {
          "output_type": "stream",
          "name": "stdout",
          "text": [
            "Accuracy 0.9097677429796877\n",
            "              precision    recall  f1-score   support\n",
            "\n",
            "           0       0.93      0.97      0.95     10924\n",
            "           1       0.67      0.43      0.53      1433\n",
            "\n",
            "    accuracy                           0.91     12357\n",
            "   macro avg       0.80      0.70      0.74     12357\n",
            "weighted avg       0.90      0.91      0.90     12357\n",
            "\n"
          ]
        }
      ]
    },
    {
      "cell_type": "code",
      "metadata": {
        "colab": {
          "base_uri": "https://localhost:8080/"
        },
        "id": "rZsdLCrIFexE",
        "outputId": "bc9d8410-1f15-4912-b288-95c08e432b63"
      },
      "source": [
        "from sklearn.metrics import confusion_matrix\n",
        "print(confusion_matrix(y_test,y_predict))"
      ],
      "execution_count": 372,
      "outputs": [
        {
          "output_type": "stream",
          "name": "stdout",
          "text": [
            "[[10623   301]\n",
            " [  814   619]]\n"
          ]
        }
      ]
    },
    {
      "cell_type": "markdown",
      "metadata": {
        "id": "i3Js0pMDGG6T"
      },
      "source": [
        "SMOTE"
      ]
    },
    {
      "cell_type": "code",
      "metadata": {
        "colab": {
          "base_uri": "https://localhost:8080/"
        },
        "id": "QTbsYSdWCGbz",
        "outputId": "a74d5b35-d3aa-40e9-b098-39173ac7ee6a"
      },
      "source": [
        "from imblearn.over_sampling import SMOTE\n",
        "smote=SMOTE()\n",
        "X_smote,y_smote=smote.fit_sample(X,y)\n",
        "print(y.shape)\n",
        "print(y_smote.shape)"
      ],
      "execution_count": 373,
      "outputs": [
        {
          "output_type": "stream",
          "name": "stdout",
          "text": [
            "(41188,)\n",
            "(73096,)\n"
          ]
        }
      ]
    },
    {
      "cell_type": "code",
      "metadata": {
        "id": "jgGBO7xKHWpc"
      },
      "source": [
        "X_train,X_test,y_train,y_test=train_test_split(X_smote,y_smote,test_size=0.3,random_state=2)"
      ],
      "execution_count": 374,
      "outputs": []
    },
    {
      "cell_type": "code",
      "metadata": {
        "colab": {
          "base_uri": "https://localhost:8080/"
        },
        "id": "8LCqcFrkH4hB",
        "outputId": "9d6bac35-69e4-43fd-a8e4-311c7d947320"
      },
      "source": [
        "from sklearn.metrics import classification_report\n",
        "model=LogisticRegression()\n",
        "model.fit(X_train,y_train)\n",
        "y_predict=model.predict(X_test)\n",
        "Accuracy=model.score(X_test,y_test)\n",
        "prec = precision_score(y_test, y_pred)\n",
        "rec = recall_score(y_test, y_pred)\n",
        "f1 = f1_score(y_test, y_pred)\n",
        "print(\"Accuracy:\",Accuracy)\n",
        "print(classification_report(y_test,y_predict))"
      ],
      "execution_count": 375,
      "outputs": [
        {
          "output_type": "stream",
          "name": "stdout",
          "text": [
            "Accuracy: 0.8532080806238315\n",
            "              precision    recall  f1-score   support\n",
            "\n",
            "           0       0.86      0.85      0.85     11059\n",
            "           1       0.85      0.86      0.85     10870\n",
            "\n",
            "    accuracy                           0.85     21929\n",
            "   macro avg       0.85      0.85      0.85     21929\n",
            "weighted avg       0.85      0.85      0.85     21929\n",
            "\n"
          ]
        }
      ]
    },
    {
      "cell_type": "code",
      "metadata": {
        "id": "-4_o5AlhJVXj"
      },
      "source": [
        "results=pd.DataFrame([['Logistic Regression ', accuracy, prec, rec, f1]],columns = ['Model', 'Accuracy', 'Precision', 'Recall', 'F1 Score'])"
      ],
      "execution_count": 376,
      "outputs": []
    },
    {
      "cell_type": "code",
      "metadata": {
        "colab": {
          "base_uri": "https://localhost:8080/"
        },
        "id": "qgy1zLGGIGtc",
        "outputId": "421b8ebc-2e90-4c25-ed48-07271168b04e"
      },
      "source": [
        "from sklearn.metrics import confusion_matrix\n",
        "print(confusion_matrix(y_test,y_predict))"
      ],
      "execution_count": 377,
      "outputs": [
        {
          "output_type": "stream",
          "name": "stdout",
          "text": [
            "[[9390 1669]\n",
            " [1550 9320]]\n"
          ]
        }
      ]
    },
    {
      "cell_type": "markdown",
      "metadata": {
        "id": "Y3kVhyfeIihW"
      },
      "source": [
        "# Section VIII : Training time !"
      ]
    },
    {
      "cell_type": "code",
      "metadata": {
        "id": "8Y5ALHocIlzT"
      },
      "source": [
        "from sklearn.feature_selection import RFE\n",
        "\n",
        "rfe = RFE(model, n_features_to_select=6)\n",
        "fit=rfe.fit(X,y)"
      ],
      "execution_count": 378,
      "outputs": []
    },
    {
      "cell_type": "code",
      "metadata": {
        "colab": {
          "base_uri": "https://localhost:8080/"
        },
        "id": "pnD2ES_LMs6h",
        "outputId": "b09f0981-f47e-4060-f42d-a9ea3fea3cca"
      },
      "source": [
        "print(\"Num Features:\",fit.n_features_)\n",
        "print(\"Selected Features:\",fit.support_)\n"
      ],
      "execution_count": 379,
      "outputs": [
        {
          "output_type": "stream",
          "name": "stdout",
          "text": [
            "Num Features: 6\n",
            "Selected Features: [False False False False False False False False  True False False False\n",
            " False False False False False False False False False False False False\n",
            " False False False False False False False False False False False False\n",
            " False False False  True False False False False  True  True False False\n",
            " False False False False False False  True False  True]\n"
          ]
        }
      ]
    },
    {
      "cell_type": "code",
      "metadata": {
        "colab": {
          "base_uri": "https://localhost:8080/"
        },
        "id": "1n3caPZ7MlJp",
        "outputId": "6bec4e78-2060-4d95-b260-53d74c3a9656"
      },
      "source": [
        "print(rfe.support_)\n",
        "print(rfe.ranking_)"
      ],
      "execution_count": 380,
      "outputs": [
        {
          "output_type": "stream",
          "name": "stdout",
          "text": [
            "[False False False False False False False False  True False False False\n",
            " False False False False False False False False False False False False\n",
            " False False False False False False False False False False False False\n",
            " False False False  True False False False False  True  True False False\n",
            " False False False False False False  True False  True]\n",
            "[48 40 24 49  8 26 30 28  1 36 25  6 47 43  3 12  2 32 17 50 38 42 33 22\n",
            " 21 31 18 29 51 35 16 41 52 45 44 37 39 23  9  1  7 10 15 27  1  1  4 11\n",
            " 46 34  5 20 19 14  1 13  1]\n"
          ]
        }
      ]
    },
    {
      "cell_type": "code",
      "metadata": {
        "colab": {
          "base_uri": "https://localhost:8080/"
        },
        "id": "iBF7IzuVJseb",
        "outputId": "a6eb57f4-1867-4cbb-ba2d-2eaa041b0d36"
      },
      "source": [
        "for i in range(0,52):\n",
        "  if rfe.support_[i]==True:\n",
        "    print(\"Featured Columns :\",data_new.columns[i])\n",
        "  else:\n",
        "    pass"
      ],
      "execution_count": 381,
      "outputs": [
        {
          "output_type": "stream",
          "name": "stdout",
          "text": [
            "Featured Columns : euribor3m\n",
            "Featured Columns : contact_telephone\n",
            "Featured Columns : month_jun\n",
            "Featured Columns : month_mar\n"
          ]
        }
      ]
    },
    {
      "cell_type": "code",
      "metadata": {
        "id": "1jsQqCTnQRB_"
      },
      "source": [
        ""
      ],
      "execution_count": 381,
      "outputs": []
    },
    {
      "cell_type": "code",
      "metadata": {
        "colab": {
          "base_uri": "https://localhost:8080/",
          "height": 112
        },
        "id": "vbwWqxdQPygd",
        "outputId": "b49396d3-90c7-4358-8146-c20b8b0864ea"
      },
      "source": [
        "from sklearn.linear_model import LogisticRegression\n",
        "from sklearn.metrics import accuracy_score, f1_score,recall_score,precision_score, confusion_matrix\n",
        "model=LogisticRegression(random_state=9)\n",
        "model.fit(X_train,y_train)\n",
        "#predicting \n",
        "y_pred=model.predict(X_test)\n",
        "accuracy=accuracy_score(y_test,y_pred)\n",
        "prec = precision_score(y_test, y_pred)\n",
        "rec = recall_score(y_test, y_pred)\n",
        "f1 = f1_score(y_test, y_pred)\n",
        "model_results = pd.DataFrame([['Logistic Regression RFE (Lasso)', accuracy, prec, rec, f1]],columns = ['Model', 'Accuracy', 'Precision', 'Recall', 'F1 Score'])\n",
        "\n",
        "results=results.append(model_results, ignore_index = True)\n",
        "results"
      ],
      "execution_count": 382,
      "outputs": [
        {
          "output_type": "execute_result",
          "data": {
            "text/html": [
              "<div>\n",
              "<style scoped>\n",
              "    .dataframe tbody tr th:only-of-type {\n",
              "        vertical-align: middle;\n",
              "    }\n",
              "\n",
              "    .dataframe tbody tr th {\n",
              "        vertical-align: top;\n",
              "    }\n",
              "\n",
              "    .dataframe thead th {\n",
              "        text-align: right;\n",
              "    }\n",
              "</style>\n",
              "<table border=\"1\" class=\"dataframe\">\n",
              "  <thead>\n",
              "    <tr style=\"text-align: right;\">\n",
              "      <th></th>\n",
              "      <th>Model</th>\n",
              "      <th>Accuracy</th>\n",
              "      <th>Precision</th>\n",
              "      <th>Recall</th>\n",
              "      <th>F1 Score</th>\n",
              "    </tr>\n",
              "  </thead>\n",
              "  <tbody>\n",
              "    <tr>\n",
              "      <th>0</th>\n",
              "      <td>Logistic Regression</td>\n",
              "      <td>0.852205</td>\n",
              "      <td>0.844860</td>\n",
              "      <td>0.859706</td>\n",
              "      <td>0.852218</td>\n",
              "    </tr>\n",
              "    <tr>\n",
              "      <th>1</th>\n",
              "      <td>Logistic Regression RFE (Lasso)</td>\n",
              "      <td>0.853208</td>\n",
              "      <td>0.848121</td>\n",
              "      <td>0.857406</td>\n",
              "      <td>0.852738</td>\n",
              "    </tr>\n",
              "  </tbody>\n",
              "</table>\n",
              "</div>"
            ],
            "text/plain": [
              "                             Model  Accuracy  Precision    Recall  F1 Score\n",
              "0             Logistic Regression   0.852205   0.844860  0.859706  0.852218\n",
              "1  Logistic Regression RFE (Lasso)  0.853208   0.848121  0.857406  0.852738"
            ]
          },
          "metadata": {},
          "execution_count": 382
        }
      ]
    }
  ]
}